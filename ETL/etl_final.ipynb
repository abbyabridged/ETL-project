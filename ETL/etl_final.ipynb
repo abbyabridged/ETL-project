{
 "metadata": {
  "language_info": {
   "codemirror_mode": {
    "name": "ipython",
    "version": 3
   },
   "file_extension": ".py",
   "mimetype": "text/x-python",
   "name": "python",
   "nbconvert_exporter": "python",
   "pygments_lexer": "ipython3",
   "version": "3.7.6-final"
  },
  "orig_nbformat": 2,
  "kernelspec": {
   "name": "python_defaultSpec_1598674202902",
   "display_name": "Python 3.7.6 64-bit ('base': conda)"
  }
 },
 "nbformat": 4,
 "nbformat_minor": 2,
 "cells": [
  {
   "cell_type": "code",
   "execution_count": 1,
   "metadata": {},
   "outputs": [],
   "source": [
    "import pandas as pd\n",
    "from sqlalchemy import create_engine"
   ]
  },
  {
   "cell_type": "markdown",
   "metadata": {},
   "source": [
    "### Extract data science jobs csv into DataFrame"
   ]
  },
  {
   "cell_type": "code",
   "execution_count": 2,
   "metadata": {},
   "outputs": [
    {
     "output_type": "execute_result",
     "data": {
      "text/plain": "   Unnamed: 0                                              title  \\\n0           1  Deloitte Access Economics - Junior Data Scientist   \n1           2                                     Data Scientist   \n2           3                      Junior Data Analyst/Scientist   \n3           4  IBM Research Scientist Data Scientist – Melbourne   \n4           5                                     Data Scientist   \n\n                                             company  \\\n0                                           Deloitte   \n1  Australian Government Department of Human Serv...   \n2        International Institute of Data & Analytics   \n3                                                IBM   \n4                                    Cash Converters   \n\n                                               cpage  ratings       location  \\\n0                 https://au.indeed.com/cmp/Deloitte      4.0     Sydney NSW   \n1  https://au.indeed.com/cmp/Australian-Governmen...      3.9   Canberra ACT   \n2                           https://au.indeed.comn/a      0.0     Sydney NSW   \n3                      https://au.indeed.com/cmp/IBM      3.9  Melbourne VIC   \n4          https://au.indeed.com/cmp/Cash-Converters      3.5    Taringa QLD   \n\n   days_ago                                            summary  \n0        30  The data will be both temporal and spatial. Ad...  \n1        10  They lead the implementation of data science a...  \n2        10  In data science and big data analytics, the ID...  \n3        30  Experience working with big data sets, especia...  \n4         1  Collaborates with data/software engineers to i...  ",
      "text/html": "<div>\n<style scoped>\n    .dataframe tbody tr th:only-of-type {\n        vertical-align: middle;\n    }\n\n    .dataframe tbody tr th {\n        vertical-align: top;\n    }\n\n    .dataframe thead th {\n        text-align: right;\n    }\n</style>\n<table border=\"1\" class=\"dataframe\">\n  <thead>\n    <tr style=\"text-align: right;\">\n      <th></th>\n      <th>Unnamed: 0</th>\n      <th>title</th>\n      <th>company</th>\n      <th>cpage</th>\n      <th>ratings</th>\n      <th>location</th>\n      <th>days_ago</th>\n      <th>summary</th>\n    </tr>\n  </thead>\n  <tbody>\n    <tr>\n      <th>0</th>\n      <td>1</td>\n      <td>Deloitte Access Economics - Junior Data Scientist</td>\n      <td>Deloitte</td>\n      <td>https://au.indeed.com/cmp/Deloitte</td>\n      <td>4.0</td>\n      <td>Sydney NSW</td>\n      <td>30</td>\n      <td>The data will be both temporal and spatial. Ad...</td>\n    </tr>\n    <tr>\n      <th>1</th>\n      <td>2</td>\n      <td>Data Scientist</td>\n      <td>Australian Government Department of Human Serv...</td>\n      <td>https://au.indeed.com/cmp/Australian-Governmen...</td>\n      <td>3.9</td>\n      <td>Canberra ACT</td>\n      <td>10</td>\n      <td>They lead the implementation of data science a...</td>\n    </tr>\n    <tr>\n      <th>2</th>\n      <td>3</td>\n      <td>Junior Data Analyst/Scientist</td>\n      <td>International Institute of Data &amp; Analytics</td>\n      <td>https://au.indeed.comn/a</td>\n      <td>0.0</td>\n      <td>Sydney NSW</td>\n      <td>10</td>\n      <td>In data science and big data analytics, the ID...</td>\n    </tr>\n    <tr>\n      <th>3</th>\n      <td>4</td>\n      <td>IBM Research Scientist Data Scientist – Melbourne</td>\n      <td>IBM</td>\n      <td>https://au.indeed.com/cmp/IBM</td>\n      <td>3.9</td>\n      <td>Melbourne VIC</td>\n      <td>30</td>\n      <td>Experience working with big data sets, especia...</td>\n    </tr>\n    <tr>\n      <th>4</th>\n      <td>5</td>\n      <td>Data Scientist</td>\n      <td>Cash Converters</td>\n      <td>https://au.indeed.com/cmp/Cash-Converters</td>\n      <td>3.5</td>\n      <td>Taringa QLD</td>\n      <td>1</td>\n      <td>Collaborates with data/software engineers to i...</td>\n    </tr>\n  </tbody>\n</table>\n</div>"
     },
     "metadata": {},
     "execution_count": 2
    }
   ],
   "source": [
    "# Read in the data science jobs csv\n",
    "datasci_file = \"../Resources/datascientist_jobs_in_australia_Oct_25_2019.csv\"\n",
    "datasci_df = pd.read_csv(datasci_file)\n",
    "datasci_df.head()"
   ]
  },
  {
   "cell_type": "code",
   "execution_count": 3,
   "metadata": {
    "tags": []
   },
   "outputs": [
    {
     "output_type": "stream",
     "name": "stdout",
     "text": "<class 'pandas.core.frame.DataFrame'>\nRangeIndex: 619 entries, 0 to 618\nData columns (total 8 columns):\n #   Column      Non-Null Count  Dtype  \n---  ------      --------------  -----  \n 0   Unnamed: 0  619 non-null    int64  \n 1   title       619 non-null    object \n 2   company     619 non-null    object \n 3   cpage       619 non-null    object \n 4   ratings     619 non-null    float64\n 5   location    619 non-null    object \n 6   days_ago    619 non-null    int64  \n 7   summary     619 non-null    object \ndtypes: float64(1), int64(2), object(5)\nmemory usage: 38.8+ KB\n"
    }
   ],
   "source": [
    "# Summary of DataFrame\n",
    "datasci_df.info()"
   ]
  },
  {
   "cell_type": "markdown",
   "metadata": {},
   "source": [
    "### Transform data science jobs csv"
   ]
  },
  {
   "cell_type": "code",
   "execution_count": 4,
   "metadata": {},
   "outputs": [],
   "source": [
    "# Rename the unnamed column to id and set as index\n",
    "datasci_df.rename(columns={\"Unnamed: 0\":\"id\"},inplace=True)\n",
    "datasci_df.set_index(\"id\",inplace=True)"
   ]
  },
  {
   "cell_type": "code",
   "execution_count": 5,
   "metadata": {
    "tags": []
   },
   "outputs": [
    {
     "output_type": "execute_result",
     "data": {
      "text/plain": "                                                title  \\\nid                                                      \n1   Deloitte Access Economics - Junior Data Scientist   \n2                                      Data Scientist   \n3                       Junior Data Analyst/Scientist   \n4   IBM Research Scientist Data Scientist – Melbourne   \n5                                      Data Scientist   \n\n                                              company  \\\nid                                                      \n1                                            Deloitte   \n2   Australian Government Department of Human Serv...   \n3         International Institute of Data & Analytics   \n4                                                 IBM   \n5                                     Cash Converters   \n\n                                                cpage  ratings       location  \\\nid                                                                              \n1                  https://au.indeed.com/cmp/Deloitte      4.0     Sydney NSW   \n2   https://au.indeed.com/cmp/Australian-Governmen...      3.9   Canberra ACT   \n3                            https://au.indeed.comn/a      0.0     Sydney NSW   \n4                       https://au.indeed.com/cmp/IBM      3.9  Melbourne VIC   \n5           https://au.indeed.com/cmp/Cash-Converters      3.5    Taringa QLD   \n\n    days_ago                                            summary  \nid                                                               \n1         30  The data will be both temporal and spatial. Ad...  \n2         10  They lead the implementation of data science a...  \n3         10  In data science and big data analytics, the ID...  \n4         30  Experience working with big data sets, especia...  \n5          1  Collaborates with data/software engineers to i...  ",
      "text/html": "<div>\n<style scoped>\n    .dataframe tbody tr th:only-of-type {\n        vertical-align: middle;\n    }\n\n    .dataframe tbody tr th {\n        vertical-align: top;\n    }\n\n    .dataframe thead th {\n        text-align: right;\n    }\n</style>\n<table border=\"1\" class=\"dataframe\">\n  <thead>\n    <tr style=\"text-align: right;\">\n      <th></th>\n      <th>title</th>\n      <th>company</th>\n      <th>cpage</th>\n      <th>ratings</th>\n      <th>location</th>\n      <th>days_ago</th>\n      <th>summary</th>\n    </tr>\n    <tr>\n      <th>id</th>\n      <th></th>\n      <th></th>\n      <th></th>\n      <th></th>\n      <th></th>\n      <th></th>\n      <th></th>\n    </tr>\n  </thead>\n  <tbody>\n    <tr>\n      <th>1</th>\n      <td>Deloitte Access Economics - Junior Data Scientist</td>\n      <td>Deloitte</td>\n      <td>https://au.indeed.com/cmp/Deloitte</td>\n      <td>4.0</td>\n      <td>Sydney NSW</td>\n      <td>30</td>\n      <td>The data will be both temporal and spatial. Ad...</td>\n    </tr>\n    <tr>\n      <th>2</th>\n      <td>Data Scientist</td>\n      <td>Australian Government Department of Human Serv...</td>\n      <td>https://au.indeed.com/cmp/Australian-Governmen...</td>\n      <td>3.9</td>\n      <td>Canberra ACT</td>\n      <td>10</td>\n      <td>They lead the implementation of data science a...</td>\n    </tr>\n    <tr>\n      <th>3</th>\n      <td>Junior Data Analyst/Scientist</td>\n      <td>International Institute of Data &amp; Analytics</td>\n      <td>https://au.indeed.comn/a</td>\n      <td>0.0</td>\n      <td>Sydney NSW</td>\n      <td>10</td>\n      <td>In data science and big data analytics, the ID...</td>\n    </tr>\n    <tr>\n      <th>4</th>\n      <td>IBM Research Scientist Data Scientist – Melbourne</td>\n      <td>IBM</td>\n      <td>https://au.indeed.com/cmp/IBM</td>\n      <td>3.9</td>\n      <td>Melbourne VIC</td>\n      <td>30</td>\n      <td>Experience working with big data sets, especia...</td>\n    </tr>\n    <tr>\n      <th>5</th>\n      <td>Data Scientist</td>\n      <td>Cash Converters</td>\n      <td>https://au.indeed.com/cmp/Cash-Converters</td>\n      <td>3.5</td>\n      <td>Taringa QLD</td>\n      <td>1</td>\n      <td>Collaborates with data/software engineers to i...</td>\n    </tr>\n  </tbody>\n</table>\n</div>"
     },
     "metadata": {},
     "execution_count": 5
    }
   ],
   "source": [
    "# Preview resulting DataFrame\n",
    "datasci_df.head()"
   ]
  },
  {
   "cell_type": "code",
   "execution_count": 6,
   "metadata": {
    "tags": []
   },
   "outputs": [],
   "source": [
    "# Check for duplicate rows, based on all columns\n",
    "duplicate_rows = datasci_df[datasci_df.duplicated(keep=\"first\")]\n",
    "# duplicate_rows\n",
    "# duplicate_rows.count()"
   ]
  },
  {
   "cell_type": "code",
   "execution_count": 7,
   "metadata": {},
   "outputs": [],
   "source": [
    "# Drop duplicate rows from DataFrame\n",
    "datasci_df.drop_duplicates(inplace=True)"
   ]
  },
  {
   "cell_type": "code",
   "execution_count": 8,
   "metadata": {},
   "outputs": [],
   "source": [
    "# Clean up cpage column (replace invalid URL 'https://au.indeed.comn/a' with 'Not available')\n",
    "datasci_df.replace(\"https://au.indeed.comn/a\",\"Not available\",inplace=True)"
   ]
  },
  {
   "cell_type": "code",
   "execution_count": 9,
   "metadata": {},
   "outputs": [],
   "source": [
    "# Replace 0.0 ratings with 'No rating'\n",
    "datasci_df.replace(0.00,\"Not rating\",inplace=True)"
   ]
  },
  {
   "cell_type": "code",
   "execution_count": 10,
   "metadata": {},
   "outputs": [],
   "source": [
    "# Drop days_ago columns\n",
    "datasci_df.drop(columns=\"days_ago\",inplace=True)"
   ]
  },
  {
   "cell_type": "code",
   "execution_count": 11,
   "metadata": {},
   "outputs": [],
   "source": [
    "# Replace state only values in location with \"N/A, <state>\" to enable splitting of location into city and state\n",
    "datasci_df[\"location\"].replace(to_replace=\"New South Wales\",value=\"Not available, NSW\",inplace=True)\n",
    "datasci_df[\"location\"].replace(to_replace=\"Victoria\",value=\"Not available, VIC\",inplace=True)\n",
    "datasci_df[\"location\"].replace(to_replace=\"Queensland\",value=\"Not available, QLD\",inplace=True)\n",
    "datasci_df[\"location\"].replace(to_replace=\"Tasmania\",value=\"Not available, TAS\",inplace=True)"
   ]
  },
  {
   "cell_type": "code",
   "execution_count": 12,
   "metadata": {},
   "outputs": [],
   "source": [
    "# Clean up location column; separate city and state into two columns\n",
    "location = datasci_df[\"location\"]\n",
    "# location.unique()\n",
    "# location.value_counts()\n",
    "location_df = location.str.rsplit(\" \",n=1,expand=True)"
   ]
  },
  {
   "cell_type": "code",
   "execution_count": 13,
   "metadata": {},
   "outputs": [],
   "source": [
    "# Add new city and state columns into existing DataFrame\n",
    "datasci_df[\"city\"] = location_df[0]\n",
    "datasci_df[\"state\"] = location_df[1]\n",
    "# Drop existing location column\n",
    "datasci_df.drop(columns=\"location\",inplace=True)"
   ]
  },
  {
   "cell_type": "code",
   "execution_count": 14,
   "metadata": {},
   "outputs": [],
   "source": [
    "# Check city and state data\n",
    "# datasci_df[\"city\"].unique()\n",
    "# datasci_df[\"state\"].unique()"
   ]
  },
  {
   "cell_type": "code",
   "execution_count": 15,
   "metadata": {},
   "outputs": [],
   "source": [
    "# Clean up city column to replace \"Australia\" values? OR leave \"Australia\" amd rename column to location\n",
    "# datasci_df[datasci_df[\"state\"].isna()]\n",
    "# datasci_df.loc[datasci_df[\"state\"] == \"Australia\"]"
   ]
  },
  {
   "cell_type": "code",
   "execution_count": 16,
   "metadata": {},
   "outputs": [],
   "source": [
    "# Rename columns with meaningful titles e.g. 'Indeed landing page'\n",
    "datasci_df.rename(columns={\"title\": \"job posting title\",\n",
    "                            \"company\": \"organisation\",\n",
    "                            \"cpage\": \"Indeed profile page\",\n",
    "                            \"ratings\": \"Indeed rating\",\n",
    "                            \"summary\": \"job summary\",\n",
    "                            \"city\": \"location\"},\n",
    "                            inplace=True)"
   ]
  },
  {
   "cell_type": "code",
   "execution_count": 17,
   "metadata": {},
   "outputs": [
    {
     "output_type": "execute_result",
     "data": {
      "text/plain": "                                    job posting title  \\\nid                                                      \n1   Deloitte Access Economics - Junior Data Scientist   \n2                                      Data Scientist   \n3                       Junior Data Analyst/Scientist   \n4   IBM Research Scientist Data Scientist – Melbourne   \n5                                      Data Scientist   \n\n                                         organisation   location state  \nid                                                                      \n1                                            Deloitte     Sydney   NSW  \n2   Australian Government Department of Human Serv...   Canberra   ACT  \n3         International Institute of Data & Analytics     Sydney   NSW  \n4                                                 IBM  Melbourne   VIC  \n5                                     Cash Converters    Taringa   QLD  ",
      "text/html": "<div>\n<style scoped>\n    .dataframe tbody tr th:only-of-type {\n        vertical-align: middle;\n    }\n\n    .dataframe tbody tr th {\n        vertical-align: top;\n    }\n\n    .dataframe thead th {\n        text-align: right;\n    }\n</style>\n<table border=\"1\" class=\"dataframe\">\n  <thead>\n    <tr style=\"text-align: right;\">\n      <th></th>\n      <th>job posting title</th>\n      <th>organisation</th>\n      <th>location</th>\n      <th>state</th>\n    </tr>\n    <tr>\n      <th>id</th>\n      <th></th>\n      <th></th>\n      <th></th>\n      <th></th>\n    </tr>\n  </thead>\n  <tbody>\n    <tr>\n      <th>1</th>\n      <td>Deloitte Access Economics - Junior Data Scientist</td>\n      <td>Deloitte</td>\n      <td>Sydney</td>\n      <td>NSW</td>\n    </tr>\n    <tr>\n      <th>2</th>\n      <td>Data Scientist</td>\n      <td>Australian Government Department of Human Serv...</td>\n      <td>Canberra</td>\n      <td>ACT</td>\n    </tr>\n    <tr>\n      <th>3</th>\n      <td>Junior Data Analyst/Scientist</td>\n      <td>International Institute of Data &amp; Analytics</td>\n      <td>Sydney</td>\n      <td>NSW</td>\n    </tr>\n    <tr>\n      <th>4</th>\n      <td>IBM Research Scientist Data Scientist – Melbourne</td>\n      <td>IBM</td>\n      <td>Melbourne</td>\n      <td>VIC</td>\n    </tr>\n    <tr>\n      <th>5</th>\n      <td>Data Scientist</td>\n      <td>Cash Converters</td>\n      <td>Taringa</td>\n      <td>QLD</td>\n    </tr>\n  </tbody>\n</table>\n</div>"
     },
     "metadata": {},
     "execution_count": 17
    }
   ],
   "source": [
    "# Select columns from data sci DF to create a job information table\n",
    "jobinfo_cols = [\"job posting title\",\"organisation\",\"location\",\"state\"]\n",
    "jobinfo_df = datasci_df[jobinfo_cols].copy()\n",
    "jobinfo_df.head()"
   ]
  },
  {
   "cell_type": "code",
   "execution_count": 18,
   "metadata": {},
   "outputs": [
    {
     "output_type": "execute_result",
     "data": {
      "text/plain": "                                          organisation  \\\nid                                                       \n1                                             Deloitte   \n2    Australian Government Department of Human Serv...   \n3          International Institute of Data & Analytics   \n4                                                  IBM   \n5                                      Cash Converters   \n..                                                 ...   \n564                                             Hudson   \n578                                Real Time Australia   \n579                                Real Time Australia   \n607                          Sustainability Consulting   \n609                                Real Time Australia   \n\n                                   Indeed profile page Indeed rating  \nid                                                                    \n1                   https://au.indeed.com/cmp/Deloitte             4  \n2    https://au.indeed.com/cmp/Australian-Governmen...           3.9  \n3                                        Not available    Not rating  \n4                        https://au.indeed.com/cmp/IBM           3.9  \n5            https://au.indeed.com/cmp/Cash-Converters           3.5  \n..                                                 ...           ...  \n564                   https://au.indeed.com/cmp/Hudson           3.6  \n578                                      Not available    Not rating  \n579                                      Not available    Not rating  \n607                                      Not available    Not rating  \n609                                      Not available    Not rating  \n\n[496 rows x 3 columns]",
      "text/html": "<div>\n<style scoped>\n    .dataframe tbody tr th:only-of-type {\n        vertical-align: middle;\n    }\n\n    .dataframe tbody tr th {\n        vertical-align: top;\n    }\n\n    .dataframe thead th {\n        text-align: right;\n    }\n</style>\n<table border=\"1\" class=\"dataframe\">\n  <thead>\n    <tr style=\"text-align: right;\">\n      <th></th>\n      <th>organisation</th>\n      <th>Indeed profile page</th>\n      <th>Indeed rating</th>\n    </tr>\n    <tr>\n      <th>id</th>\n      <th></th>\n      <th></th>\n      <th></th>\n    </tr>\n  </thead>\n  <tbody>\n    <tr>\n      <th>1</th>\n      <td>Deloitte</td>\n      <td>https://au.indeed.com/cmp/Deloitte</td>\n      <td>4</td>\n    </tr>\n    <tr>\n      <th>2</th>\n      <td>Australian Government Department of Human Serv...</td>\n      <td>https://au.indeed.com/cmp/Australian-Governmen...</td>\n      <td>3.9</td>\n    </tr>\n    <tr>\n      <th>3</th>\n      <td>International Institute of Data &amp; Analytics</td>\n      <td>Not available</td>\n      <td>Not rating</td>\n    </tr>\n    <tr>\n      <th>4</th>\n      <td>IBM</td>\n      <td>https://au.indeed.com/cmp/IBM</td>\n      <td>3.9</td>\n    </tr>\n    <tr>\n      <th>5</th>\n      <td>Cash Converters</td>\n      <td>https://au.indeed.com/cmp/Cash-Converters</td>\n      <td>3.5</td>\n    </tr>\n    <tr>\n      <th>...</th>\n      <td>...</td>\n      <td>...</td>\n      <td>...</td>\n    </tr>\n    <tr>\n      <th>564</th>\n      <td>Hudson</td>\n      <td>https://au.indeed.com/cmp/Hudson</td>\n      <td>3.6</td>\n    </tr>\n    <tr>\n      <th>578</th>\n      <td>Real Time Australia</td>\n      <td>Not available</td>\n      <td>Not rating</td>\n    </tr>\n    <tr>\n      <th>579</th>\n      <td>Real Time Australia</td>\n      <td>Not available</td>\n      <td>Not rating</td>\n    </tr>\n    <tr>\n      <th>607</th>\n      <td>Sustainability Consulting</td>\n      <td>Not available</td>\n      <td>Not rating</td>\n    </tr>\n    <tr>\n      <th>609</th>\n      <td>Real Time Australia</td>\n      <td>Not available</td>\n      <td>Not rating</td>\n    </tr>\n  </tbody>\n</table>\n<p>496 rows × 3 columns</p>\n</div>"
     },
     "metadata": {},
     "execution_count": 18
    }
   ],
   "source": [
    "# Select columns to create organisation DF\n",
    "orginfo_cols = [\"organisation\",\"Indeed profile page\",\"Indeed rating\"]\n",
    "orginfo_df = datasci_df[orginfo_cols].copy()\n",
    "orginfo_df"
   ]
  },
  {
   "cell_type": "code",
   "execution_count": 19,
   "metadata": {},
   "outputs": [],
   "source": [
    "# Drop duplicates from org DF\n",
    "orginfo_df.drop_duplicates(subset=\"organisation\",inplace=True)"
   ]
  },
  {
   "cell_type": "code",
   "execution_count": 20,
   "metadata": {},
   "outputs": [
    {
     "output_type": "execute_result",
     "data": {
      "text/plain": "                                          organisation  \\\nid                                                       \n1                                             Deloitte   \n2    Australian Government Department of Human Serv...   \n3          International Institute of Data & Analytics   \n4                                                  IBM   \n5                                      Cash Converters   \n..                                                 ...   \n517                                      Langley Chase   \n518                              Beacham Group Pty Ltd   \n522                             Talentpool Recruitment   \n528                                Real Time Australia   \n534                                    Profusion Group   \n\n                                   Indeed profile page Indeed rating  \nid                                                                    \n1                   https://au.indeed.com/cmp/Deloitte             4  \n2    https://au.indeed.com/cmp/Australian-Governmen...           3.9  \n3                                        Not available    Not rating  \n4                        https://au.indeed.com/cmp/IBM           3.9  \n5            https://au.indeed.com/cmp/Cash-Converters           3.5  \n..                                                 ...           ...  \n517                                      Not available    Not rating  \n518                                      Not available    Not rating  \n522                                      Not available    Not rating  \n528                                      Not available    Not rating  \n534                                      Not available    Not rating  \n\n[265 rows x 3 columns]",
      "text/html": "<div>\n<style scoped>\n    .dataframe tbody tr th:only-of-type {\n        vertical-align: middle;\n    }\n\n    .dataframe tbody tr th {\n        vertical-align: top;\n    }\n\n    .dataframe thead th {\n        text-align: right;\n    }\n</style>\n<table border=\"1\" class=\"dataframe\">\n  <thead>\n    <tr style=\"text-align: right;\">\n      <th></th>\n      <th>organisation</th>\n      <th>Indeed profile page</th>\n      <th>Indeed rating</th>\n    </tr>\n    <tr>\n      <th>id</th>\n      <th></th>\n      <th></th>\n      <th></th>\n    </tr>\n  </thead>\n  <tbody>\n    <tr>\n      <th>1</th>\n      <td>Deloitte</td>\n      <td>https://au.indeed.com/cmp/Deloitte</td>\n      <td>4</td>\n    </tr>\n    <tr>\n      <th>2</th>\n      <td>Australian Government Department of Human Serv...</td>\n      <td>https://au.indeed.com/cmp/Australian-Governmen...</td>\n      <td>3.9</td>\n    </tr>\n    <tr>\n      <th>3</th>\n      <td>International Institute of Data &amp; Analytics</td>\n      <td>Not available</td>\n      <td>Not rating</td>\n    </tr>\n    <tr>\n      <th>4</th>\n      <td>IBM</td>\n      <td>https://au.indeed.com/cmp/IBM</td>\n      <td>3.9</td>\n    </tr>\n    <tr>\n      <th>5</th>\n      <td>Cash Converters</td>\n      <td>https://au.indeed.com/cmp/Cash-Converters</td>\n      <td>3.5</td>\n    </tr>\n    <tr>\n      <th>...</th>\n      <td>...</td>\n      <td>...</td>\n      <td>...</td>\n    </tr>\n    <tr>\n      <th>517</th>\n      <td>Langley Chase</td>\n      <td>Not available</td>\n      <td>Not rating</td>\n    </tr>\n    <tr>\n      <th>518</th>\n      <td>Beacham Group Pty Ltd</td>\n      <td>Not available</td>\n      <td>Not rating</td>\n    </tr>\n    <tr>\n      <th>522</th>\n      <td>Talentpool Recruitment</td>\n      <td>Not available</td>\n      <td>Not rating</td>\n    </tr>\n    <tr>\n      <th>528</th>\n      <td>Real Time Australia</td>\n      <td>Not available</td>\n      <td>Not rating</td>\n    </tr>\n    <tr>\n      <th>534</th>\n      <td>Profusion Group</td>\n      <td>Not available</td>\n      <td>Not rating</td>\n    </tr>\n  </tbody>\n</table>\n<p>265 rows × 3 columns</p>\n</div>"
     },
     "metadata": {},
     "execution_count": 20
    }
   ],
   "source": [
    "# Final, deduped org into DF\n",
    "orginfo_df"
   ]
  },
  {
   "cell_type": "markdown",
   "metadata": {},
   "source": [
    "### Extract ABS labour market data csv into DataFrame\n",
    "\n"
   ]
  },
  {
   "cell_type": "code",
   "execution_count": 21,
   "metadata": {},
   "outputs": [
    {
     "output_type": "execute_result",
     "data": {
      "text/plain": "  State/Territory    Date  Employment Rate (15-64)     \\\n0             NSW  Feb-78                         NaN   \n1             NSW  Mar-78                         NaN   \n2             NSW  Apr-78                        63.7   \n3             NSW  May-78                        63.7   \n4             NSW  Jun-78                        63.7   \n\n   Unemployment Rate (15+)    Participation Rate (15+)      \n0                        6.9                          60.8  \n1                        6.4                          59.8  \n2                        6.5                          60.2  \n3                        6.1                          60.0  \n4                        6.4                          60.1  ",
      "text/html": "<div>\n<style scoped>\n    .dataframe tbody tr th:only-of-type {\n        vertical-align: middle;\n    }\n\n    .dataframe tbody tr th {\n        vertical-align: top;\n    }\n\n    .dataframe thead th {\n        text-align: right;\n    }\n</style>\n<table border=\"1\" class=\"dataframe\">\n  <thead>\n    <tr style=\"text-align: right;\">\n      <th></th>\n      <th>State/Territory</th>\n      <th>Date</th>\n      <th>Employment Rate (15-64)</th>\n      <th>Unemployment Rate (15+)</th>\n      <th>Participation Rate (15+)</th>\n    </tr>\n  </thead>\n  <tbody>\n    <tr>\n      <th>0</th>\n      <td>NSW</td>\n      <td>Feb-78</td>\n      <td>NaN</td>\n      <td>6.9</td>\n      <td>60.8</td>\n    </tr>\n    <tr>\n      <th>1</th>\n      <td>NSW</td>\n      <td>Mar-78</td>\n      <td>NaN</td>\n      <td>6.4</td>\n      <td>59.8</td>\n    </tr>\n    <tr>\n      <th>2</th>\n      <td>NSW</td>\n      <td>Apr-78</td>\n      <td>63.7</td>\n      <td>6.5</td>\n      <td>60.2</td>\n    </tr>\n    <tr>\n      <th>3</th>\n      <td>NSW</td>\n      <td>May-78</td>\n      <td>63.7</td>\n      <td>6.1</td>\n      <td>60.0</td>\n    </tr>\n    <tr>\n      <th>4</th>\n      <td>NSW</td>\n      <td>Jun-78</td>\n      <td>63.7</td>\n      <td>6.4</td>\n      <td>60.1</td>\n    </tr>\n  </tbody>\n</table>\n</div>"
     },
     "metadata": {},
     "execution_count": 21
    }
   ],
   "source": [
    "# Read in csv\n",
    "abslabour_file = \"../Resources/SA4 Time Series - July 2020.csv\"\n",
    "abslabour_df = pd.read_csv(abslabour_file)\n",
    "abslabour_df.head()"
   ]
  },
  {
   "cell_type": "markdown",
   "metadata": {},
   "source": [
    "### Transform ABS labour market data"
   ]
  },
  {
   "cell_type": "code",
   "execution_count": 22,
   "metadata": {},
   "outputs": [
    {
     "output_type": "execute_result",
     "data": {
      "text/plain": "     State/Territory    Date  Employment Rate (15-64)     \\\n500              NSW  Oct-19                        74.9   \n1010             VIC  Oct-19                        74.0   \n1520             QLD  Oct-19                        73.9   \n2030              SA  Oct-19                        72.0   \n2540              WA  Oct-19                        74.7   \n3050             TAS  Oct-19                        71.2   \n3560              NT  Oct-19                        74.3   \n4070             ACT  Oct-19                        79.1   \n4580       Australia  Oct-19                        74.3   \n\n      Unemployment Rate (15+)    Participation Rate (15+)      \n500                         4.8                          65.5  \n1010                        4.8                          66.4  \n1520                        6.4                          66.0  \n2030                        6.2                          62.7  \n2540                        5.7                          68.2  \n3050                        6.0                          60.6  \n3560                        5.6                          73.4  \n4070                        3.0                          70.8  \n4580                        5.3                          66.0  ",
      "text/html": "<div>\n<style scoped>\n    .dataframe tbody tr th:only-of-type {\n        vertical-align: middle;\n    }\n\n    .dataframe tbody tr th {\n        vertical-align: top;\n    }\n\n    .dataframe thead th {\n        text-align: right;\n    }\n</style>\n<table border=\"1\" class=\"dataframe\">\n  <thead>\n    <tr style=\"text-align: right;\">\n      <th></th>\n      <th>State/Territory</th>\n      <th>Date</th>\n      <th>Employment Rate (15-64)</th>\n      <th>Unemployment Rate (15+)</th>\n      <th>Participation Rate (15+)</th>\n    </tr>\n  </thead>\n  <tbody>\n    <tr>\n      <th>500</th>\n      <td>NSW</td>\n      <td>Oct-19</td>\n      <td>74.9</td>\n      <td>4.8</td>\n      <td>65.5</td>\n    </tr>\n    <tr>\n      <th>1010</th>\n      <td>VIC</td>\n      <td>Oct-19</td>\n      <td>74.0</td>\n      <td>4.8</td>\n      <td>66.4</td>\n    </tr>\n    <tr>\n      <th>1520</th>\n      <td>QLD</td>\n      <td>Oct-19</td>\n      <td>73.9</td>\n      <td>6.4</td>\n      <td>66.0</td>\n    </tr>\n    <tr>\n      <th>2030</th>\n      <td>SA</td>\n      <td>Oct-19</td>\n      <td>72.0</td>\n      <td>6.2</td>\n      <td>62.7</td>\n    </tr>\n    <tr>\n      <th>2540</th>\n      <td>WA</td>\n      <td>Oct-19</td>\n      <td>74.7</td>\n      <td>5.7</td>\n      <td>68.2</td>\n    </tr>\n    <tr>\n      <th>3050</th>\n      <td>TAS</td>\n      <td>Oct-19</td>\n      <td>71.2</td>\n      <td>6.0</td>\n      <td>60.6</td>\n    </tr>\n    <tr>\n      <th>3560</th>\n      <td>NT</td>\n      <td>Oct-19</td>\n      <td>74.3</td>\n      <td>5.6</td>\n      <td>73.4</td>\n    </tr>\n    <tr>\n      <th>4070</th>\n      <td>ACT</td>\n      <td>Oct-19</td>\n      <td>79.1</td>\n      <td>3.0</td>\n      <td>70.8</td>\n    </tr>\n    <tr>\n      <th>4580</th>\n      <td>Australia</td>\n      <td>Oct-19</td>\n      <td>74.3</td>\n      <td>5.3</td>\n      <td>66.0</td>\n    </tr>\n  </tbody>\n</table>\n</div>"
     },
     "metadata": {},
     "execution_count": 22
    }
   ],
   "source": [
    "# Filter for relevant labour market data dates (Oct 2019 matched jobs data)\n",
    "abslabour_oct2019_df = abslabour_df.loc[abslabour_df[\"Date\"] == \"Oct-19\"]\n",
    "abslabour_oct2019_df"
   ]
  },
  {
   "cell_type": "code",
   "execution_count": 23,
   "metadata": {},
   "outputs": [],
   "source": [
    "# Drop row with value \"Australia\" in state/territory column\n",
    "abslabour_oct2019_df.drop(4580,inplace=True)"
   ]
  },
  {
   "cell_type": "code",
   "execution_count": 24,
   "metadata": {},
   "outputs": [
    {
     "output_type": "execute_result",
     "data": {
      "text/plain": "  State/Territory    Date  Employment Rate (15-64)     \\\n0             NSW  Oct-19                        74.9   \n1             VIC  Oct-19                        74.0   \n2             QLD  Oct-19                        73.9   \n3              SA  Oct-19                        72.0   \n4              WA  Oct-19                        74.7   \n5             TAS  Oct-19                        71.2   \n6              NT  Oct-19                        74.3   \n7             ACT  Oct-19                        79.1   \n\n   Unemployment Rate (15+)    Participation Rate (15+)      \n0                        4.8                          65.5  \n1                        4.8                          66.4  \n2                        6.4                          66.0  \n3                        6.2                          62.7  \n4                        5.7                          68.2  \n5                        6.0                          60.6  \n6                        5.6                          73.4  \n7                        3.0                          70.8  ",
      "text/html": "<div>\n<style scoped>\n    .dataframe tbody tr th:only-of-type {\n        vertical-align: middle;\n    }\n\n    .dataframe tbody tr th {\n        vertical-align: top;\n    }\n\n    .dataframe thead th {\n        text-align: right;\n    }\n</style>\n<table border=\"1\" class=\"dataframe\">\n  <thead>\n    <tr style=\"text-align: right;\">\n      <th></th>\n      <th>State/Territory</th>\n      <th>Date</th>\n      <th>Employment Rate (15-64)</th>\n      <th>Unemployment Rate (15+)</th>\n      <th>Participation Rate (15+)</th>\n    </tr>\n  </thead>\n  <tbody>\n    <tr>\n      <th>0</th>\n      <td>NSW</td>\n      <td>Oct-19</td>\n      <td>74.9</td>\n      <td>4.8</td>\n      <td>65.5</td>\n    </tr>\n    <tr>\n      <th>1</th>\n      <td>VIC</td>\n      <td>Oct-19</td>\n      <td>74.0</td>\n      <td>4.8</td>\n      <td>66.4</td>\n    </tr>\n    <tr>\n      <th>2</th>\n      <td>QLD</td>\n      <td>Oct-19</td>\n      <td>73.9</td>\n      <td>6.4</td>\n      <td>66.0</td>\n    </tr>\n    <tr>\n      <th>3</th>\n      <td>SA</td>\n      <td>Oct-19</td>\n      <td>72.0</td>\n      <td>6.2</td>\n      <td>62.7</td>\n    </tr>\n    <tr>\n      <th>4</th>\n      <td>WA</td>\n      <td>Oct-19</td>\n      <td>74.7</td>\n      <td>5.7</td>\n      <td>68.2</td>\n    </tr>\n    <tr>\n      <th>5</th>\n      <td>TAS</td>\n      <td>Oct-19</td>\n      <td>71.2</td>\n      <td>6.0</td>\n      <td>60.6</td>\n    </tr>\n    <tr>\n      <th>6</th>\n      <td>NT</td>\n      <td>Oct-19</td>\n      <td>74.3</td>\n      <td>5.6</td>\n      <td>73.4</td>\n    </tr>\n    <tr>\n      <th>7</th>\n      <td>ACT</td>\n      <td>Oct-19</td>\n      <td>79.1</td>\n      <td>3.0</td>\n      <td>70.8</td>\n    </tr>\n  </tbody>\n</table>\n</div>"
     },
     "metadata": {},
     "execution_count": 24
    }
   ],
   "source": [
    "abslabour_oct2019_df.reset_index(drop=True, inplace=True)\n",
    "abslabour_oct2019_df"
   ]
  },
  {
   "cell_type": "code",
   "execution_count": 25,
   "metadata": {},
   "outputs": [],
   "source": [
    "# Rename columns\n",
    "abslabour_oct2019_df.columns=[\"state\",\"date\",\"employment rate\", \"unemployment rate\", \"participation rate\"]"
   ]
  },
  {
   "cell_type": "code",
   "execution_count": 26,
   "metadata": {
    "tags": []
   },
   "outputs": [
    {
     "output_type": "execute_result",
     "data": {
      "text/plain": "  state    date  employment rate  unemployment rate  participation rate\n0   NSW  Oct-19             74.9                4.8                65.5\n1   VIC  Oct-19             74.0                4.8                66.4\n2   QLD  Oct-19             73.9                6.4                66.0\n3    SA  Oct-19             72.0                6.2                62.7\n4    WA  Oct-19             74.7                5.7                68.2\n5   TAS  Oct-19             71.2                6.0                60.6\n6    NT  Oct-19             74.3                5.6                73.4\n7   ACT  Oct-19             79.1                3.0                70.8",
      "text/html": "<div>\n<style scoped>\n    .dataframe tbody tr th:only-of-type {\n        vertical-align: middle;\n    }\n\n    .dataframe tbody tr th {\n        vertical-align: top;\n    }\n\n    .dataframe thead th {\n        text-align: right;\n    }\n</style>\n<table border=\"1\" class=\"dataframe\">\n  <thead>\n    <tr style=\"text-align: right;\">\n      <th></th>\n      <th>state</th>\n      <th>date</th>\n      <th>employment rate</th>\n      <th>unemployment rate</th>\n      <th>participation rate</th>\n    </tr>\n  </thead>\n  <tbody>\n    <tr>\n      <th>0</th>\n      <td>NSW</td>\n      <td>Oct-19</td>\n      <td>74.9</td>\n      <td>4.8</td>\n      <td>65.5</td>\n    </tr>\n    <tr>\n      <th>1</th>\n      <td>VIC</td>\n      <td>Oct-19</td>\n      <td>74.0</td>\n      <td>4.8</td>\n      <td>66.4</td>\n    </tr>\n    <tr>\n      <th>2</th>\n      <td>QLD</td>\n      <td>Oct-19</td>\n      <td>73.9</td>\n      <td>6.4</td>\n      <td>66.0</td>\n    </tr>\n    <tr>\n      <th>3</th>\n      <td>SA</td>\n      <td>Oct-19</td>\n      <td>72.0</td>\n      <td>6.2</td>\n      <td>62.7</td>\n    </tr>\n    <tr>\n      <th>4</th>\n      <td>WA</td>\n      <td>Oct-19</td>\n      <td>74.7</td>\n      <td>5.7</td>\n      <td>68.2</td>\n    </tr>\n    <tr>\n      <th>5</th>\n      <td>TAS</td>\n      <td>Oct-19</td>\n      <td>71.2</td>\n      <td>6.0</td>\n      <td>60.6</td>\n    </tr>\n    <tr>\n      <th>6</th>\n      <td>NT</td>\n      <td>Oct-19</td>\n      <td>74.3</td>\n      <td>5.6</td>\n      <td>73.4</td>\n    </tr>\n    <tr>\n      <th>7</th>\n      <td>ACT</td>\n      <td>Oct-19</td>\n      <td>79.1</td>\n      <td>3.0</td>\n      <td>70.8</td>\n    </tr>\n  </tbody>\n</table>\n</div>"
     },
     "metadata": {},
     "execution_count": 26
    }
   ],
   "source": [
    "abslabour_oct2019_df"
   ]
  },
  {
   "cell_type": "code",
   "execution_count": 27,
   "metadata": {},
   "outputs": [
    {
     "output_type": "execute_result",
     "data": {
      "text/plain": "  state  employment rate  unemployment rate  participation rate\n0   NSW             74.9                4.8                65.5\n1   VIC             74.0                4.8                66.4\n2   QLD             73.9                6.4                66.0\n3    SA             72.0                6.2                62.7\n4    WA             74.7                5.7                68.2\n5   TAS             71.2                6.0                60.6\n6    NT             74.3                5.6                73.4\n7   ACT             79.1                3.0                70.8",
      "text/html": "<div>\n<style scoped>\n    .dataframe tbody tr th:only-of-type {\n        vertical-align: middle;\n    }\n\n    .dataframe tbody tr th {\n        vertical-align: top;\n    }\n\n    .dataframe thead th {\n        text-align: right;\n    }\n</style>\n<table border=\"1\" class=\"dataframe\">\n  <thead>\n    <tr style=\"text-align: right;\">\n      <th></th>\n      <th>state</th>\n      <th>employment rate</th>\n      <th>unemployment rate</th>\n      <th>participation rate</th>\n    </tr>\n  </thead>\n  <tbody>\n    <tr>\n      <th>0</th>\n      <td>NSW</td>\n      <td>74.9</td>\n      <td>4.8</td>\n      <td>65.5</td>\n    </tr>\n    <tr>\n      <th>1</th>\n      <td>VIC</td>\n      <td>74.0</td>\n      <td>4.8</td>\n      <td>66.4</td>\n    </tr>\n    <tr>\n      <th>2</th>\n      <td>QLD</td>\n      <td>73.9</td>\n      <td>6.4</td>\n      <td>66.0</td>\n    </tr>\n    <tr>\n      <th>3</th>\n      <td>SA</td>\n      <td>72.0</td>\n      <td>6.2</td>\n      <td>62.7</td>\n    </tr>\n    <tr>\n      <th>4</th>\n      <td>WA</td>\n      <td>74.7</td>\n      <td>5.7</td>\n      <td>68.2</td>\n    </tr>\n    <tr>\n      <th>5</th>\n      <td>TAS</td>\n      <td>71.2</td>\n      <td>6.0</td>\n      <td>60.6</td>\n    </tr>\n    <tr>\n      <th>6</th>\n      <td>NT</td>\n      <td>74.3</td>\n      <td>5.6</td>\n      <td>73.4</td>\n    </tr>\n    <tr>\n      <th>7</th>\n      <td>ACT</td>\n      <td>79.1</td>\n      <td>3.0</td>\n      <td>70.8</td>\n    </tr>\n  </tbody>\n</table>\n</div>"
     },
     "metadata": {},
     "execution_count": 27
    }
   ],
   "source": [
    "# Select columns from abslabour DF to create a labour market information table\n",
    "labourinfo_cols = [\"state\",\"employment rate\",\"unemployment rate\",\"participation rate\"]\n",
    "labourinfo_df = abslabour_oct2019_df[labourinfo_cols].copy()\n",
    "labourinfo_df"
   ]
  },
  {
   "cell_type": "markdown",
   "metadata": {},
   "source": [
    "### List of final DFs for database tables"
   ]
  },
  {
   "cell_type": "code",
   "execution_count": 28,
   "metadata": {},
   "outputs": [
    {
     "output_type": "execute_result",
     "data": {
      "text/plain": "                                     job posting title  \\\nid                                                       \n1    Deloitte Access Economics - Junior Data Scientist   \n2                                       Data Scientist   \n3                        Junior Data Analyst/Scientist   \n4    IBM Research Scientist Data Scientist – Melbourne   \n5                                       Data Scientist   \n..                                                 ...   \n564                            Senior Research Analyst   \n578  6M Contract - Automation Engineer - JavaScript...   \n579  Full Stack Senior Software Engineer (React.js ...   \n607                             Senior Product Manager   \n609  Full Stack Senior Software Engineer (React.js ...   \n\n                                          organisation   location state  \nid                                                                       \n1                                             Deloitte     Sydney   NSW  \n2    Australian Government Department of Human Serv...   Canberra   ACT  \n3          International Institute of Data & Analytics     Sydney   NSW  \n4                                                  IBM  Melbourne   VIC  \n5                                      Cash Converters    Taringa   QLD  \n..                                                 ...        ...   ...  \n564                                             Hudson  Melbourne   VIC  \n578                                Real Time Australia  Melbourne   VIC  \n579                                Real Time Australia  Melbourne   VIC  \n607                          Sustainability Consulting     Sydney   NSW  \n609                                Real Time Australia  Melbourne   VIC  \n\n[496 rows x 4 columns]",
      "text/html": "<div>\n<style scoped>\n    .dataframe tbody tr th:only-of-type {\n        vertical-align: middle;\n    }\n\n    .dataframe tbody tr th {\n        vertical-align: top;\n    }\n\n    .dataframe thead th {\n        text-align: right;\n    }\n</style>\n<table border=\"1\" class=\"dataframe\">\n  <thead>\n    <tr style=\"text-align: right;\">\n      <th></th>\n      <th>job posting title</th>\n      <th>organisation</th>\n      <th>location</th>\n      <th>state</th>\n    </tr>\n    <tr>\n      <th>id</th>\n      <th></th>\n      <th></th>\n      <th></th>\n      <th></th>\n    </tr>\n  </thead>\n  <tbody>\n    <tr>\n      <th>1</th>\n      <td>Deloitte Access Economics - Junior Data Scientist</td>\n      <td>Deloitte</td>\n      <td>Sydney</td>\n      <td>NSW</td>\n    </tr>\n    <tr>\n      <th>2</th>\n      <td>Data Scientist</td>\n      <td>Australian Government Department of Human Serv...</td>\n      <td>Canberra</td>\n      <td>ACT</td>\n    </tr>\n    <tr>\n      <th>3</th>\n      <td>Junior Data Analyst/Scientist</td>\n      <td>International Institute of Data &amp; Analytics</td>\n      <td>Sydney</td>\n      <td>NSW</td>\n    </tr>\n    <tr>\n      <th>4</th>\n      <td>IBM Research Scientist Data Scientist – Melbourne</td>\n      <td>IBM</td>\n      <td>Melbourne</td>\n      <td>VIC</td>\n    </tr>\n    <tr>\n      <th>5</th>\n      <td>Data Scientist</td>\n      <td>Cash Converters</td>\n      <td>Taringa</td>\n      <td>QLD</td>\n    </tr>\n    <tr>\n      <th>...</th>\n      <td>...</td>\n      <td>...</td>\n      <td>...</td>\n      <td>...</td>\n    </tr>\n    <tr>\n      <th>564</th>\n      <td>Senior Research Analyst</td>\n      <td>Hudson</td>\n      <td>Melbourne</td>\n      <td>VIC</td>\n    </tr>\n    <tr>\n      <th>578</th>\n      <td>6M Contract - Automation Engineer - JavaScript...</td>\n      <td>Real Time Australia</td>\n      <td>Melbourne</td>\n      <td>VIC</td>\n    </tr>\n    <tr>\n      <th>579</th>\n      <td>Full Stack Senior Software Engineer (React.js ...</td>\n      <td>Real Time Australia</td>\n      <td>Melbourne</td>\n      <td>VIC</td>\n    </tr>\n    <tr>\n      <th>607</th>\n      <td>Senior Product Manager</td>\n      <td>Sustainability Consulting</td>\n      <td>Sydney</td>\n      <td>NSW</td>\n    </tr>\n    <tr>\n      <th>609</th>\n      <td>Full Stack Senior Software Engineer (React.js ...</td>\n      <td>Real Time Australia</td>\n      <td>Melbourne</td>\n      <td>VIC</td>\n    </tr>\n  </tbody>\n</table>\n<p>496 rows × 4 columns</p>\n</div>"
     },
     "metadata": {},
     "execution_count": 28
    }
   ],
   "source": [
    "# Job information\n",
    "jobinfo_df"
   ]
  },
  {
   "cell_type": "code",
   "execution_count": 29,
   "metadata": {},
   "outputs": [
    {
     "output_type": "execute_result",
     "data": {
      "text/plain": "                                          organisation  \\\nid                                                       \n1                                             Deloitte   \n2    Australian Government Department of Human Serv...   \n3          International Institute of Data & Analytics   \n4                                                  IBM   \n5                                      Cash Converters   \n..                                                 ...   \n517                                      Langley Chase   \n518                              Beacham Group Pty Ltd   \n522                             Talentpool Recruitment   \n528                                Real Time Australia   \n534                                    Profusion Group   \n\n                                   Indeed profile page Indeed rating  \nid                                                                    \n1                   https://au.indeed.com/cmp/Deloitte             4  \n2    https://au.indeed.com/cmp/Australian-Governmen...           3.9  \n3                                        Not available    Not rating  \n4                        https://au.indeed.com/cmp/IBM           3.9  \n5            https://au.indeed.com/cmp/Cash-Converters           3.5  \n..                                                 ...           ...  \n517                                      Not available    Not rating  \n518                                      Not available    Not rating  \n522                                      Not available    Not rating  \n528                                      Not available    Not rating  \n534                                      Not available    Not rating  \n\n[265 rows x 3 columns]",
      "text/html": "<div>\n<style scoped>\n    .dataframe tbody tr th:only-of-type {\n        vertical-align: middle;\n    }\n\n    .dataframe tbody tr th {\n        vertical-align: top;\n    }\n\n    .dataframe thead th {\n        text-align: right;\n    }\n</style>\n<table border=\"1\" class=\"dataframe\">\n  <thead>\n    <tr style=\"text-align: right;\">\n      <th></th>\n      <th>organisation</th>\n      <th>Indeed profile page</th>\n      <th>Indeed rating</th>\n    </tr>\n    <tr>\n      <th>id</th>\n      <th></th>\n      <th></th>\n      <th></th>\n    </tr>\n  </thead>\n  <tbody>\n    <tr>\n      <th>1</th>\n      <td>Deloitte</td>\n      <td>https://au.indeed.com/cmp/Deloitte</td>\n      <td>4</td>\n    </tr>\n    <tr>\n      <th>2</th>\n      <td>Australian Government Department of Human Serv...</td>\n      <td>https://au.indeed.com/cmp/Australian-Governmen...</td>\n      <td>3.9</td>\n    </tr>\n    <tr>\n      <th>3</th>\n      <td>International Institute of Data &amp; Analytics</td>\n      <td>Not available</td>\n      <td>Not rating</td>\n    </tr>\n    <tr>\n      <th>4</th>\n      <td>IBM</td>\n      <td>https://au.indeed.com/cmp/IBM</td>\n      <td>3.9</td>\n    </tr>\n    <tr>\n      <th>5</th>\n      <td>Cash Converters</td>\n      <td>https://au.indeed.com/cmp/Cash-Converters</td>\n      <td>3.5</td>\n    </tr>\n    <tr>\n      <th>...</th>\n      <td>...</td>\n      <td>...</td>\n      <td>...</td>\n    </tr>\n    <tr>\n      <th>517</th>\n      <td>Langley Chase</td>\n      <td>Not available</td>\n      <td>Not rating</td>\n    </tr>\n    <tr>\n      <th>518</th>\n      <td>Beacham Group Pty Ltd</td>\n      <td>Not available</td>\n      <td>Not rating</td>\n    </tr>\n    <tr>\n      <th>522</th>\n      <td>Talentpool Recruitment</td>\n      <td>Not available</td>\n      <td>Not rating</td>\n    </tr>\n    <tr>\n      <th>528</th>\n      <td>Real Time Australia</td>\n      <td>Not available</td>\n      <td>Not rating</td>\n    </tr>\n    <tr>\n      <th>534</th>\n      <td>Profusion Group</td>\n      <td>Not available</td>\n      <td>Not rating</td>\n    </tr>\n  </tbody>\n</table>\n<p>265 rows × 3 columns</p>\n</div>"
     },
     "metadata": {},
     "execution_count": 29
    }
   ],
   "source": [
    "# Organisation information\n",
    "orginfo_df"
   ]
  },
  {
   "cell_type": "code",
   "execution_count": 30,
   "metadata": {},
   "outputs": [
    {
     "output_type": "execute_result",
     "data": {
      "text/plain": "  state  employment rate  unemployment rate  participation rate\n0   NSW             74.9                4.8                65.5\n1   VIC             74.0                4.8                66.4\n2   QLD             73.9                6.4                66.0\n3    SA             72.0                6.2                62.7\n4    WA             74.7                5.7                68.2\n5   TAS             71.2                6.0                60.6\n6    NT             74.3                5.6                73.4\n7   ACT             79.1                3.0                70.8",
      "text/html": "<div>\n<style scoped>\n    .dataframe tbody tr th:only-of-type {\n        vertical-align: middle;\n    }\n\n    .dataframe tbody tr th {\n        vertical-align: top;\n    }\n\n    .dataframe thead th {\n        text-align: right;\n    }\n</style>\n<table border=\"1\" class=\"dataframe\">\n  <thead>\n    <tr style=\"text-align: right;\">\n      <th></th>\n      <th>state</th>\n      <th>employment rate</th>\n      <th>unemployment rate</th>\n      <th>participation rate</th>\n    </tr>\n  </thead>\n  <tbody>\n    <tr>\n      <th>0</th>\n      <td>NSW</td>\n      <td>74.9</td>\n      <td>4.8</td>\n      <td>65.5</td>\n    </tr>\n    <tr>\n      <th>1</th>\n      <td>VIC</td>\n      <td>74.0</td>\n      <td>4.8</td>\n      <td>66.4</td>\n    </tr>\n    <tr>\n      <th>2</th>\n      <td>QLD</td>\n      <td>73.9</td>\n      <td>6.4</td>\n      <td>66.0</td>\n    </tr>\n    <tr>\n      <th>3</th>\n      <td>SA</td>\n      <td>72.0</td>\n      <td>6.2</td>\n      <td>62.7</td>\n    </tr>\n    <tr>\n      <th>4</th>\n      <td>WA</td>\n      <td>74.7</td>\n      <td>5.7</td>\n      <td>68.2</td>\n    </tr>\n    <tr>\n      <th>5</th>\n      <td>TAS</td>\n      <td>71.2</td>\n      <td>6.0</td>\n      <td>60.6</td>\n    </tr>\n    <tr>\n      <th>6</th>\n      <td>NT</td>\n      <td>74.3</td>\n      <td>5.6</td>\n      <td>73.4</td>\n    </tr>\n    <tr>\n      <th>7</th>\n      <td>ACT</td>\n      <td>79.1</td>\n      <td>3.0</td>\n      <td>70.8</td>\n    </tr>\n  </tbody>\n</table>\n</div>"
     },
     "metadata": {},
     "execution_count": 30
    }
   ],
   "source": [
    "# Labour market information\n",
    "labourinfo_df"
   ]
  }
 ]
}