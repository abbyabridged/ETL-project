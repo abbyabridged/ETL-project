{
 "metadata": {
  "language_info": {
   "codemirror_mode": {
    "name": "ipython",
    "version": 3
   },
   "file_extension": ".py",
   "mimetype": "text/x-python",
   "name": "python",
   "nbconvert_exporter": "python",
   "pygments_lexer": "ipython3",
   "version": "3.7.6-final"
  },
  "orig_nbformat": 2,
  "kernelspec": {
   "name": "python_defaultSpec_1598524583020",
   "display_name": "Python 3.7.6 64-bit ('base': conda)"
  }
 },
 "nbformat": 4,
 "nbformat_minor": 2,
 "cells": [
  {
   "cell_type": "code",
   "execution_count": 50,
   "metadata": {},
   "outputs": [],
   "source": [
    "import pandas as pd\n",
    "from sqlalchemy import create_engine"
   ]
  },
  {
   "cell_type": "markdown",
   "metadata": {},
   "source": [
    "### Extract data science jobs csv into DataFrame"
   ]
  },
  {
   "cell_type": "code",
   "execution_count": 51,
   "metadata": {},
   "outputs": [
    {
     "output_type": "execute_result",
     "data": {
      "text/plain": "   Unnamed: 0                                              title  \\\n0           1  Deloitte Access Economics - Junior Data Scientist   \n1           2                                     Data Scientist   \n2           3                      Junior Data Analyst/Scientist   \n3           4  IBM Research Scientist Data Scientist – Melbourne   \n4           5                                     Data Scientist   \n\n                                             company  \\\n0                                           Deloitte   \n1  Australian Government Department of Human Serv...   \n2        International Institute of Data & Analytics   \n3                                                IBM   \n4                                    Cash Converters   \n\n                                               cpage  ratings       location  \\\n0                 https://au.indeed.com/cmp/Deloitte      4.0     Sydney NSW   \n1  https://au.indeed.com/cmp/Australian-Governmen...      3.9   Canberra ACT   \n2                           https://au.indeed.comn/a      0.0     Sydney NSW   \n3                      https://au.indeed.com/cmp/IBM      3.9  Melbourne VIC   \n4          https://au.indeed.com/cmp/Cash-Converters      3.5    Taringa QLD   \n\n   days_ago                                            summary  \n0        30  The data will be both temporal and spatial. Ad...  \n1        10  They lead the implementation of data science a...  \n2        10  In data science and big data analytics, the ID...  \n3        30  Experience working with big data sets, especia...  \n4         1  Collaborates with data/software engineers to i...  ",
      "text/html": "<div>\n<style scoped>\n    .dataframe tbody tr th:only-of-type {\n        vertical-align: middle;\n    }\n\n    .dataframe tbody tr th {\n        vertical-align: top;\n    }\n\n    .dataframe thead th {\n        text-align: right;\n    }\n</style>\n<table border=\"1\" class=\"dataframe\">\n  <thead>\n    <tr style=\"text-align: right;\">\n      <th></th>\n      <th>Unnamed: 0</th>\n      <th>title</th>\n      <th>company</th>\n      <th>cpage</th>\n      <th>ratings</th>\n      <th>location</th>\n      <th>days_ago</th>\n      <th>summary</th>\n    </tr>\n  </thead>\n  <tbody>\n    <tr>\n      <th>0</th>\n      <td>1</td>\n      <td>Deloitte Access Economics - Junior Data Scientist</td>\n      <td>Deloitte</td>\n      <td>https://au.indeed.com/cmp/Deloitte</td>\n      <td>4.0</td>\n      <td>Sydney NSW</td>\n      <td>30</td>\n      <td>The data will be both temporal and spatial. Ad...</td>\n    </tr>\n    <tr>\n      <th>1</th>\n      <td>2</td>\n      <td>Data Scientist</td>\n      <td>Australian Government Department of Human Serv...</td>\n      <td>https://au.indeed.com/cmp/Australian-Governmen...</td>\n      <td>3.9</td>\n      <td>Canberra ACT</td>\n      <td>10</td>\n      <td>They lead the implementation of data science a...</td>\n    </tr>\n    <tr>\n      <th>2</th>\n      <td>3</td>\n      <td>Junior Data Analyst/Scientist</td>\n      <td>International Institute of Data &amp; Analytics</td>\n      <td>https://au.indeed.comn/a</td>\n      <td>0.0</td>\n      <td>Sydney NSW</td>\n      <td>10</td>\n      <td>In data science and big data analytics, the ID...</td>\n    </tr>\n    <tr>\n      <th>3</th>\n      <td>4</td>\n      <td>IBM Research Scientist Data Scientist – Melbourne</td>\n      <td>IBM</td>\n      <td>https://au.indeed.com/cmp/IBM</td>\n      <td>3.9</td>\n      <td>Melbourne VIC</td>\n      <td>30</td>\n      <td>Experience working with big data sets, especia...</td>\n    </tr>\n    <tr>\n      <th>4</th>\n      <td>5</td>\n      <td>Data Scientist</td>\n      <td>Cash Converters</td>\n      <td>https://au.indeed.com/cmp/Cash-Converters</td>\n      <td>3.5</td>\n      <td>Taringa QLD</td>\n      <td>1</td>\n      <td>Collaborates with data/software engineers to i...</td>\n    </tr>\n  </tbody>\n</table>\n</div>"
     },
     "metadata": {},
     "execution_count": 51
    }
   ],
   "source": [
    "# Read in the data science jobs csv\n",
    "datasci_file = \"../Resources/datascientist_jobs_in_australia_Oct_25_2019.csv\"\n",
    "datasci_df = pd.read_csv(datasci_file)\n",
    "datasci_df.head()"
   ]
  },
  {
   "cell_type": "code",
   "execution_count": 52,
   "metadata": {
    "tags": []
   },
   "outputs": [
    {
     "output_type": "stream",
     "name": "stdout",
     "text": "<class 'pandas.core.frame.DataFrame'>\nRangeIndex: 619 entries, 0 to 618\nData columns (total 8 columns):\n #   Column      Non-Null Count  Dtype  \n---  ------      --------------  -----  \n 0   Unnamed: 0  619 non-null    int64  \n 1   title       619 non-null    object \n 2   company     619 non-null    object \n 3   cpage       619 non-null    object \n 4   ratings     619 non-null    float64\n 5   location    619 non-null    object \n 6   days_ago    619 non-null    int64  \n 7   summary     619 non-null    object \ndtypes: float64(1), int64(2), object(5)\nmemory usage: 38.8+ KB\n"
    }
   ],
   "source": [
    "# Summary of DataFrame\n",
    "datasci_df.info()"
   ]
  },
  {
   "cell_type": "markdown",
   "metadata": {},
   "source": [
    "### Transform data science jobs csv"
   ]
  },
  {
   "cell_type": "code",
   "execution_count": 53,
   "metadata": {},
   "outputs": [],
   "source": [
    "# Rename the unnamed column to id and set as index\n",
    "datasci_df.rename(columns={\"Unnamed: 0\":\"id\"},inplace=True)\n",
    "datasci_df.set_index(\"id\",inplace=True)"
   ]
  },
  {
   "cell_type": "code",
   "execution_count": 54,
   "metadata": {
    "tags": []
   },
   "outputs": [
    {
     "output_type": "execute_result",
     "data": {
      "text/plain": "                                                title  \\\nid                                                      \n1   Deloitte Access Economics - Junior Data Scientist   \n2                                      Data Scientist   \n3                       Junior Data Analyst/Scientist   \n4   IBM Research Scientist Data Scientist – Melbourne   \n5                                      Data Scientist   \n\n                                              company  \\\nid                                                      \n1                                            Deloitte   \n2   Australian Government Department of Human Serv...   \n3         International Institute of Data & Analytics   \n4                                                 IBM   \n5                                     Cash Converters   \n\n                                                cpage  ratings       location  \\\nid                                                                              \n1                  https://au.indeed.com/cmp/Deloitte      4.0     Sydney NSW   \n2   https://au.indeed.com/cmp/Australian-Governmen...      3.9   Canberra ACT   \n3                            https://au.indeed.comn/a      0.0     Sydney NSW   \n4                       https://au.indeed.com/cmp/IBM      3.9  Melbourne VIC   \n5           https://au.indeed.com/cmp/Cash-Converters      3.5    Taringa QLD   \n\n    days_ago                                            summary  \nid                                                               \n1         30  The data will be both temporal and spatial. Ad...  \n2         10  They lead the implementation of data science a...  \n3         10  In data science and big data analytics, the ID...  \n4         30  Experience working with big data sets, especia...  \n5          1  Collaborates with data/software engineers to i...  ",
      "text/html": "<div>\n<style scoped>\n    .dataframe tbody tr th:only-of-type {\n        vertical-align: middle;\n    }\n\n    .dataframe tbody tr th {\n        vertical-align: top;\n    }\n\n    .dataframe thead th {\n        text-align: right;\n    }\n</style>\n<table border=\"1\" class=\"dataframe\">\n  <thead>\n    <tr style=\"text-align: right;\">\n      <th></th>\n      <th>title</th>\n      <th>company</th>\n      <th>cpage</th>\n      <th>ratings</th>\n      <th>location</th>\n      <th>days_ago</th>\n      <th>summary</th>\n    </tr>\n    <tr>\n      <th>id</th>\n      <th></th>\n      <th></th>\n      <th></th>\n      <th></th>\n      <th></th>\n      <th></th>\n      <th></th>\n    </tr>\n  </thead>\n  <tbody>\n    <tr>\n      <th>1</th>\n      <td>Deloitte Access Economics - Junior Data Scientist</td>\n      <td>Deloitte</td>\n      <td>https://au.indeed.com/cmp/Deloitte</td>\n      <td>4.0</td>\n      <td>Sydney NSW</td>\n      <td>30</td>\n      <td>The data will be both temporal and spatial. Ad...</td>\n    </tr>\n    <tr>\n      <th>2</th>\n      <td>Data Scientist</td>\n      <td>Australian Government Department of Human Serv...</td>\n      <td>https://au.indeed.com/cmp/Australian-Governmen...</td>\n      <td>3.9</td>\n      <td>Canberra ACT</td>\n      <td>10</td>\n      <td>They lead the implementation of data science a...</td>\n    </tr>\n    <tr>\n      <th>3</th>\n      <td>Junior Data Analyst/Scientist</td>\n      <td>International Institute of Data &amp; Analytics</td>\n      <td>https://au.indeed.comn/a</td>\n      <td>0.0</td>\n      <td>Sydney NSW</td>\n      <td>10</td>\n      <td>In data science and big data analytics, the ID...</td>\n    </tr>\n    <tr>\n      <th>4</th>\n      <td>IBM Research Scientist Data Scientist – Melbourne</td>\n      <td>IBM</td>\n      <td>https://au.indeed.com/cmp/IBM</td>\n      <td>3.9</td>\n      <td>Melbourne VIC</td>\n      <td>30</td>\n      <td>Experience working with big data sets, especia...</td>\n    </tr>\n    <tr>\n      <th>5</th>\n      <td>Data Scientist</td>\n      <td>Cash Converters</td>\n      <td>https://au.indeed.com/cmp/Cash-Converters</td>\n      <td>3.5</td>\n      <td>Taringa QLD</td>\n      <td>1</td>\n      <td>Collaborates with data/software engineers to i...</td>\n    </tr>\n  </tbody>\n</table>\n</div>"
     },
     "metadata": {},
     "execution_count": 54
    }
   ],
   "source": [
    "# Preview resulting DataFrame\n",
    "datasci_df.head()"
   ]
  },
  {
   "cell_type": "code",
   "execution_count": 55,
   "metadata": {
    "tags": []
   },
   "outputs": [],
   "source": [
    "# Check for duplicate rows, based on all columns\n",
    "duplicate_rows = datasci_df[datasci_df.duplicated(keep=\"first\")]\n",
    "# duplicate_rows\n",
    "# duplicate_rows.count()"
   ]
  },
  {
   "cell_type": "code",
   "execution_count": 56,
   "metadata": {},
   "outputs": [],
   "source": [
    "# Drop duplicate rows from DataFrame\n",
    "datasci_df.drop_duplicates(inplace=True)"
   ]
  },
  {
   "cell_type": "code",
   "execution_count": 57,
   "metadata": {},
   "outputs": [],
   "source": [
    "# Clean up cpage column (replace invalid URL 'https://au.indeed.comn/a' with 'Not available')\n",
    "datasci_df.replace(\"https://au.indeed.comn/a\",\"Not available\",inplace=True)"
   ]
  },
  {
   "cell_type": "code",
   "execution_count": 58,
   "metadata": {},
   "outputs": [],
   "source": [
    "# Replace 0.0 ratings with 'No rating'\n",
    "datasci_df.replace(0.00,\"Not available\",inplace=True)"
   ]
  },
  {
   "cell_type": "code",
   "execution_count": 59,
   "metadata": {},
   "outputs": [],
   "source": [
    "# Drop days_ago columns\n",
    "datasci_df.drop(columns=\"days_ago\",inplace=True)"
   ]
  },
  {
   "cell_type": "code",
   "execution_count": 60,
   "metadata": {},
   "outputs": [],
   "source": [
    "# Replace state only values in location with \"N/A, <state>\" to enable splitting of location into city and state\n",
    "datasci_df[\"location\"].replace(to_replace=\"New South Wales\",value=\"Not available, NSW\",inplace=True)\n",
    "datasci_df[\"location\"].replace(to_replace=\"Victoria\",value=\"Not available, VIC\",inplace=True)\n",
    "datasci_df[\"location\"].replace(to_replace=\"Queensland\",value=\"Not available, QLD\",inplace=True)\n",
    "datasci_df[\"location\"].replace(to_replace=\"Tasmania\",value=\"Not available, TAS\",inplace=True)"
   ]
  },
  {
   "cell_type": "code",
   "execution_count": 61,
   "metadata": {},
   "outputs": [],
   "source": [
    "# Clean up location column; separate city and state into two columns\n",
    "location = datasci_df[\"location\"]\n",
    "# location.unique()\n",
    "# location.value_counts()\n",
    "location_df = location.str.rsplit(\" \",n=1,expand=True)"
   ]
  },
  {
   "cell_type": "code",
   "execution_count": 62,
   "metadata": {},
   "outputs": [],
   "source": [
    "# Add new city and state columns into existing DataFrame\n",
    "datasci_df[\"city\"] = location_df[0]\n",
    "datasci_df[\"state\"] = location_df[1]\n",
    "# Drop existing location column\n",
    "datasci_df.drop(columns=\"location\",inplace=True)"
   ]
  },
  {
   "cell_type": "code",
   "execution_count": 63,
   "metadata": {},
   "outputs": [],
   "source": [
    "# Check city and state data\n",
    "# datasci_df[\"city\"].unique()\n",
    "# datasci_df[\"state\"].unique()"
   ]
  },
  {
   "cell_type": "code",
   "execution_count": 64,
   "metadata": {},
   "outputs": [],
   "source": [
    "# Clean up city column to replace \"Australia\" values? OR leave \"Australia\" amd rename column to location\n",
    "# datasci_df[datasci_df[\"state\"].isna()]\n",
    "# datasci_df.loc[datasci_df[\"state\"] == \"Australia\"]"
   ]
  },
  {
   "cell_type": "code",
   "execution_count": 65,
   "metadata": {},
   "outputs": [],
   "source": [
    "# Rename columns with meaningful titles e.g. 'Indeed landing page'\n",
    "datasci_df.rename(columns={\"title\": \"job posting title\",\n",
    "                            \"company\": \"organisation\",\n",
    "                            \"cpage\": \"Indeed profile page\",\n",
    "                            \"ratings\": \"Indeed rating\",\n",
    "                            \"summary\": \"job summary\",\n",
    "                            \"city\": \"location\"},\n",
    "                            inplace=True)"
   ]
  },
  {
   "cell_type": "code",
   "execution_count": 66,
   "metadata": {},
   "outputs": [
    {
     "output_type": "execute_result",
     "data": {
      "text/plain": "                                    job posting title  \\\nid                                                      \n1   Deloitte Access Economics - Junior Data Scientist   \n2                                      Data Scientist   \n3                       Junior Data Analyst/Scientist   \n4   IBM Research Scientist Data Scientist – Melbourne   \n5                                      Data Scientist   \n\n                                         organisation  \\\nid                                                      \n1                                            Deloitte   \n2   Australian Government Department of Human Serv...   \n3         International Institute of Data & Analytics   \n4                                                 IBM   \n5                                     Cash Converters   \n\n                                  Indeed profile page  Indeed rating  \\\nid                                                                     \n1                  https://au.indeed.com/cmp/Deloitte              4   \n2   https://au.indeed.com/cmp/Australian-Governmen...            3.9   \n3                                       Not available  Not available   \n4                       https://au.indeed.com/cmp/IBM            3.9   \n5           https://au.indeed.com/cmp/Cash-Converters            3.5   \n\n                                          job summary   location state  \nid                                                                      \n1   The data will be both temporal and spatial. Ad...     Sydney   NSW  \n2   They lead the implementation of data science a...   Canberra   ACT  \n3   In data science and big data analytics, the ID...     Sydney   NSW  \n4   Experience working with big data sets, especia...  Melbourne   VIC  \n5   Collaborates with data/software engineers to i...    Taringa   QLD  ",
      "text/html": "<div>\n<style scoped>\n    .dataframe tbody tr th:only-of-type {\n        vertical-align: middle;\n    }\n\n    .dataframe tbody tr th {\n        vertical-align: top;\n    }\n\n    .dataframe thead th {\n        text-align: right;\n    }\n</style>\n<table border=\"1\" class=\"dataframe\">\n  <thead>\n    <tr style=\"text-align: right;\">\n      <th></th>\n      <th>job posting title</th>\n      <th>organisation</th>\n      <th>Indeed profile page</th>\n      <th>Indeed rating</th>\n      <th>job summary</th>\n      <th>location</th>\n      <th>state</th>\n    </tr>\n    <tr>\n      <th>id</th>\n      <th></th>\n      <th></th>\n      <th></th>\n      <th></th>\n      <th></th>\n      <th></th>\n      <th></th>\n    </tr>\n  </thead>\n  <tbody>\n    <tr>\n      <th>1</th>\n      <td>Deloitte Access Economics - Junior Data Scientist</td>\n      <td>Deloitte</td>\n      <td>https://au.indeed.com/cmp/Deloitte</td>\n      <td>4</td>\n      <td>The data will be both temporal and spatial. Ad...</td>\n      <td>Sydney</td>\n      <td>NSW</td>\n    </tr>\n    <tr>\n      <th>2</th>\n      <td>Data Scientist</td>\n      <td>Australian Government Department of Human Serv...</td>\n      <td>https://au.indeed.com/cmp/Australian-Governmen...</td>\n      <td>3.9</td>\n      <td>They lead the implementation of data science a...</td>\n      <td>Canberra</td>\n      <td>ACT</td>\n    </tr>\n    <tr>\n      <th>3</th>\n      <td>Junior Data Analyst/Scientist</td>\n      <td>International Institute of Data &amp; Analytics</td>\n      <td>Not available</td>\n      <td>Not available</td>\n      <td>In data science and big data analytics, the ID...</td>\n      <td>Sydney</td>\n      <td>NSW</td>\n    </tr>\n    <tr>\n      <th>4</th>\n      <td>IBM Research Scientist Data Scientist – Melbourne</td>\n      <td>IBM</td>\n      <td>https://au.indeed.com/cmp/IBM</td>\n      <td>3.9</td>\n      <td>Experience working with big data sets, especia...</td>\n      <td>Melbourne</td>\n      <td>VIC</td>\n    </tr>\n    <tr>\n      <th>5</th>\n      <td>Data Scientist</td>\n      <td>Cash Converters</td>\n      <td>https://au.indeed.com/cmp/Cash-Converters</td>\n      <td>3.5</td>\n      <td>Collaborates with data/software engineers to i...</td>\n      <td>Taringa</td>\n      <td>QLD</td>\n    </tr>\n  </tbody>\n</table>\n</div>"
     },
     "metadata": {},
     "execution_count": 66
    }
   ],
   "source": [
    "datasci_df.head()"
   ]
  },
  {
   "cell_type": "code",
   "execution_count": 67,
   "metadata": {},
   "outputs": [
    {
     "output_type": "execute_result",
     "data": {
      "text/plain": "                                    job posting title  \\\nid                                                      \n1   Deloitte Access Economics - Junior Data Scientist   \n2                                      Data Scientist   \n3                       Junior Data Analyst/Scientist   \n4   IBM Research Scientist Data Scientist – Melbourne   \n5                                      Data Scientist   \n\n                                         organisation   location state  \nid                                                                      \n1                                            Deloitte     Sydney   NSW  \n2   Australian Government Department of Human Serv...   Canberra   ACT  \n3         International Institute of Data & Analytics     Sydney   NSW  \n4                                                 IBM  Melbourne   VIC  \n5                                     Cash Converters    Taringa   QLD  ",
      "text/html": "<div>\n<style scoped>\n    .dataframe tbody tr th:only-of-type {\n        vertical-align: middle;\n    }\n\n    .dataframe tbody tr th {\n        vertical-align: top;\n    }\n\n    .dataframe thead th {\n        text-align: right;\n    }\n</style>\n<table border=\"1\" class=\"dataframe\">\n  <thead>\n    <tr style=\"text-align: right;\">\n      <th></th>\n      <th>job posting title</th>\n      <th>organisation</th>\n      <th>location</th>\n      <th>state</th>\n    </tr>\n    <tr>\n      <th>id</th>\n      <th></th>\n      <th></th>\n      <th></th>\n      <th></th>\n    </tr>\n  </thead>\n  <tbody>\n    <tr>\n      <th>1</th>\n      <td>Deloitte Access Economics - Junior Data Scientist</td>\n      <td>Deloitte</td>\n      <td>Sydney</td>\n      <td>NSW</td>\n    </tr>\n    <tr>\n      <th>2</th>\n      <td>Data Scientist</td>\n      <td>Australian Government Department of Human Serv...</td>\n      <td>Canberra</td>\n      <td>ACT</td>\n    </tr>\n    <tr>\n      <th>3</th>\n      <td>Junior Data Analyst/Scientist</td>\n      <td>International Institute of Data &amp; Analytics</td>\n      <td>Sydney</td>\n      <td>NSW</td>\n    </tr>\n    <tr>\n      <th>4</th>\n      <td>IBM Research Scientist Data Scientist – Melbourne</td>\n      <td>IBM</td>\n      <td>Melbourne</td>\n      <td>VIC</td>\n    </tr>\n    <tr>\n      <th>5</th>\n      <td>Data Scientist</td>\n      <td>Cash Converters</td>\n      <td>Taringa</td>\n      <td>QLD</td>\n    </tr>\n  </tbody>\n</table>\n</div>"
     },
     "metadata": {},
     "execution_count": 67
    }
   ],
   "source": [
    "# Select columns from data sci DF to create a job information table\n",
    "jobinfo_cols = [\"job posting title\",\"organisation\",\"location\",\"state\"]\n",
    "jobinfo_df = datasci_df[jobinfo_cols].copy()\n",
    "jobinfo_df.head()"
   ]
  },
  {
   "cell_type": "code",
   "execution_count": 83,
   "metadata": {},
   "outputs": [
    {
     "output_type": "execute_result",
     "data": {
      "text/plain": "                                         organisation  \\\nid                                                      \n1                                            Deloitte   \n2   Australian Government Department of Human Serv...   \n3         International Institute of Data & Analytics   \n4                                                 IBM   \n5                                     Cash Converters   \n\n                                  Indeed profile page  Indeed rating  \nid                                                                    \n1                  https://au.indeed.com/cmp/Deloitte              4  \n2   https://au.indeed.com/cmp/Australian-Governmen...            3.9  \n3                                       Not available  Not available  \n4                       https://au.indeed.com/cmp/IBM            3.9  \n5           https://au.indeed.com/cmp/Cash-Converters            3.5  ",
      "text/html": "<div>\n<style scoped>\n    .dataframe tbody tr th:only-of-type {\n        vertical-align: middle;\n    }\n\n    .dataframe tbody tr th {\n        vertical-align: top;\n    }\n\n    .dataframe thead th {\n        text-align: right;\n    }\n</style>\n<table border=\"1\" class=\"dataframe\">\n  <thead>\n    <tr style=\"text-align: right;\">\n      <th></th>\n      <th>organisation</th>\n      <th>Indeed profile page</th>\n      <th>Indeed rating</th>\n    </tr>\n    <tr>\n      <th>id</th>\n      <th></th>\n      <th></th>\n      <th></th>\n    </tr>\n  </thead>\n  <tbody>\n    <tr>\n      <th>1</th>\n      <td>Deloitte</td>\n      <td>https://au.indeed.com/cmp/Deloitte</td>\n      <td>4</td>\n    </tr>\n    <tr>\n      <th>2</th>\n      <td>Australian Government Department of Human Serv...</td>\n      <td>https://au.indeed.com/cmp/Australian-Governmen...</td>\n      <td>3.9</td>\n    </tr>\n    <tr>\n      <th>3</th>\n      <td>International Institute of Data &amp; Analytics</td>\n      <td>Not available</td>\n      <td>Not available</td>\n    </tr>\n    <tr>\n      <th>4</th>\n      <td>IBM</td>\n      <td>https://au.indeed.com/cmp/IBM</td>\n      <td>3.9</td>\n    </tr>\n    <tr>\n      <th>5</th>\n      <td>Cash Converters</td>\n      <td>https://au.indeed.com/cmp/Cash-Converters</td>\n      <td>3.5</td>\n    </tr>\n  </tbody>\n</table>\n</div>"
     },
     "metadata": {},
     "execution_count": 83
    }
   ],
   "source": [
    "# Select columns to create organisation DF\n",
    "orginfo_cols = [\"organisation\",\"Indeed profile page\",\"Indeed rating\"]\n",
    "orginfo_df = datasci_df[orginfo_cols].copy()\n",
    "orginfo_df.head()"
   ]
  },
  {
   "cell_type": "code",
   "execution_count": 104,
   "metadata": {},
   "outputs": [
    {
     "output_type": "error",
     "ename": "ValueError",
     "evalue": "Length of passed values is 265, index implies 496.",
     "traceback": [
      "\u001b[0;31m---------------------------------------------------------------------------\u001b[0m",
      "\u001b[0;31mValueError\u001b[0m                                Traceback (most recent call last)",
      "\u001b[0;32m<ipython-input-104-3437de119255>\u001b[0m in \u001b[0;36m<module>\u001b[0;34m\u001b[0m\n\u001b[1;32m      1\u001b[0m \u001b[0;31m# Drop duplicates from org DF\u001b[0m\u001b[0;34m\u001b[0m\u001b[0;34m\u001b[0m\u001b[0;34m\u001b[0m\u001b[0m\n\u001b[0;32m----> 2\u001b[0;31m \u001b[0mdf\u001b[0m \u001b[0;34m=\u001b[0m \u001b[0morginfo_df\u001b[0m\u001b[0;34m.\u001b[0m\u001b[0mdrop_duplicates\u001b[0m\u001b[0;34m(\u001b[0m\u001b[0msubset\u001b[0m\u001b[0;34m=\u001b[0m\u001b[0;34m\"organisation\"\u001b[0m\u001b[0;34m)\u001b[0m\u001b[0;34m\u001b[0m\u001b[0;34m\u001b[0m\u001b[0m\n\u001b[0m\u001b[1;32m      3\u001b[0m \u001b[0mdf\u001b[0m\u001b[0;34m\u001b[0m\u001b[0;34m\u001b[0m\u001b[0m\n",
      "\u001b[0;32m~/opt/anaconda3/lib/python3.7/site-packages/pandas/core/frame.py\u001b[0m in \u001b[0;36mdrop_duplicates\u001b[0;34m(self, subset, keep, inplace, ignore_index)\u001b[0m\n\u001b[1;32m   4809\u001b[0m \u001b[0;34m\u001b[0m\u001b[0m\n\u001b[1;32m   4810\u001b[0m         \u001b[0minplace\u001b[0m \u001b[0;34m=\u001b[0m \u001b[0mvalidate_bool_kwarg\u001b[0m\u001b[0;34m(\u001b[0m\u001b[0minplace\u001b[0m\u001b[0;34m,\u001b[0m \u001b[0;34m\"inplace\"\u001b[0m\u001b[0;34m)\u001b[0m\u001b[0;34m\u001b[0m\u001b[0;34m\u001b[0m\u001b[0m\n\u001b[0;32m-> 4811\u001b[0;31m         \u001b[0mduplicated\u001b[0m \u001b[0;34m=\u001b[0m \u001b[0mself\u001b[0m\u001b[0;34m.\u001b[0m\u001b[0mduplicated\u001b[0m\u001b[0;34m(\u001b[0m\u001b[0msubset\u001b[0m\u001b[0;34m,\u001b[0m \u001b[0mkeep\u001b[0m\u001b[0;34m=\u001b[0m\u001b[0mkeep\u001b[0m\u001b[0;34m)\u001b[0m\u001b[0;34m\u001b[0m\u001b[0;34m\u001b[0m\u001b[0m\n\u001b[0m\u001b[1;32m   4812\u001b[0m \u001b[0;34m\u001b[0m\u001b[0m\n\u001b[1;32m   4813\u001b[0m         \u001b[0;32mif\u001b[0m \u001b[0minplace\u001b[0m\u001b[0;34m:\u001b[0m\u001b[0;34m\u001b[0m\u001b[0;34m\u001b[0m\u001b[0m\n",
      "\u001b[0;32m~/opt/anaconda3/lib/python3.7/site-packages/pandas/core/frame.py\u001b[0m in \u001b[0;36mduplicated\u001b[0;34m(self, subset, keep)\u001b[0m\n\u001b[1;32m   4889\u001b[0m \u001b[0;34m\u001b[0m\u001b[0m\n\u001b[1;32m   4890\u001b[0m         \u001b[0mids\u001b[0m \u001b[0;34m=\u001b[0m \u001b[0mget_group_index\u001b[0m\u001b[0;34m(\u001b[0m\u001b[0mlabels\u001b[0m\u001b[0;34m,\u001b[0m \u001b[0mshape\u001b[0m\u001b[0;34m,\u001b[0m \u001b[0msort\u001b[0m\u001b[0;34m=\u001b[0m\u001b[0;32mFalse\u001b[0m\u001b[0;34m,\u001b[0m \u001b[0mxnull\u001b[0m\u001b[0;34m=\u001b[0m\u001b[0;32mFalse\u001b[0m\u001b[0;34m)\u001b[0m\u001b[0;34m\u001b[0m\u001b[0;34m\u001b[0m\u001b[0m\n\u001b[0;32m-> 4891\u001b[0;31m         \u001b[0;32mreturn\u001b[0m \u001b[0mSeries\u001b[0m\u001b[0;34m(\u001b[0m\u001b[0mduplicated_int64\u001b[0m\u001b[0;34m(\u001b[0m\u001b[0mids\u001b[0m\u001b[0;34m,\u001b[0m \u001b[0mkeep\u001b[0m\u001b[0;34m)\u001b[0m\u001b[0;34m,\u001b[0m \u001b[0mindex\u001b[0m\u001b[0;34m=\u001b[0m\u001b[0mself\u001b[0m\u001b[0;34m.\u001b[0m\u001b[0mindex\u001b[0m\u001b[0;34m)\u001b[0m\u001b[0;34m\u001b[0m\u001b[0;34m\u001b[0m\u001b[0m\n\u001b[0m\u001b[1;32m   4892\u001b[0m \u001b[0;34m\u001b[0m\u001b[0m\n\u001b[1;32m   4893\u001b[0m     \u001b[0;31m# ----------------------------------------------------------------------\u001b[0m\u001b[0;34m\u001b[0m\u001b[0;34m\u001b[0m\u001b[0;34m\u001b[0m\u001b[0m\n",
      "\u001b[0;32m~/opt/anaconda3/lib/python3.7/site-packages/pandas/core/series.py\u001b[0m in \u001b[0;36m__init__\u001b[0;34m(self, data, index, dtype, name, copy, fastpath)\u001b[0m\n\u001b[1;32m    290\u001b[0m                     \u001b[0;32mif\u001b[0m \u001b[0mlen\u001b[0m\u001b[0;34m(\u001b[0m\u001b[0mindex\u001b[0m\u001b[0;34m)\u001b[0m \u001b[0;34m!=\u001b[0m \u001b[0mlen\u001b[0m\u001b[0;34m(\u001b[0m\u001b[0mdata\u001b[0m\u001b[0;34m)\u001b[0m\u001b[0;34m:\u001b[0m\u001b[0;34m\u001b[0m\u001b[0;34m\u001b[0m\u001b[0m\n\u001b[1;32m    291\u001b[0m                         raise ValueError(\n\u001b[0;32m--> 292\u001b[0;31m                             \u001b[0;34mf\"Length of passed values is {len(data)}, \"\u001b[0m\u001b[0;34m\u001b[0m\u001b[0;34m\u001b[0m\u001b[0m\n\u001b[0m\u001b[1;32m    293\u001b[0m                             \u001b[0;34mf\"index implies {len(index)}.\"\u001b[0m\u001b[0;34m\u001b[0m\u001b[0;34m\u001b[0m\u001b[0m\n\u001b[1;32m    294\u001b[0m                         )\n",
      "\u001b[0;31mValueError\u001b[0m: Length of passed values is 265, index implies 496."
     ]
    }
   ],
   "source": [
    "# Drop duplicates from org DF\n",
    "orginfo_df.drop_duplicates(subset=\"organisation\")"
   ]
  },
  {
   "cell_type": "markdown",
   "metadata": {},
   "source": [
    "### Extract ABS labour market data csv into DataFrame\n",
    "\n"
   ]
  },
  {
   "cell_type": "code",
   "execution_count": 105,
   "metadata": {},
   "outputs": [
    {
     "output_type": "execute_result",
     "data": {
      "text/plain": "  State/Territory    Date  Employment Rate (15-64)     \\\n0             NSW  Feb-78                         NaN   \n1             NSW  Mar-78                         NaN   \n2             NSW  Apr-78                        63.7   \n3             NSW  May-78                        63.7   \n4             NSW  Jun-78                        63.7   \n\n   Unemployment Rate (15+)    Participation Rate (15+)      \n0                        6.9                          60.8  \n1                        6.4                          59.8  \n2                        6.5                          60.2  \n3                        6.1                          60.0  \n4                        6.4                          60.1  ",
      "text/html": "<div>\n<style scoped>\n    .dataframe tbody tr th:only-of-type {\n        vertical-align: middle;\n    }\n\n    .dataframe tbody tr th {\n        vertical-align: top;\n    }\n\n    .dataframe thead th {\n        text-align: right;\n    }\n</style>\n<table border=\"1\" class=\"dataframe\">\n  <thead>\n    <tr style=\"text-align: right;\">\n      <th></th>\n      <th>State/Territory</th>\n      <th>Date</th>\n      <th>Employment Rate (15-64)</th>\n      <th>Unemployment Rate (15+)</th>\n      <th>Participation Rate (15+)</th>\n    </tr>\n  </thead>\n  <tbody>\n    <tr>\n      <th>0</th>\n      <td>NSW</td>\n      <td>Feb-78</td>\n      <td>NaN</td>\n      <td>6.9</td>\n      <td>60.8</td>\n    </tr>\n    <tr>\n      <th>1</th>\n      <td>NSW</td>\n      <td>Mar-78</td>\n      <td>NaN</td>\n      <td>6.4</td>\n      <td>59.8</td>\n    </tr>\n    <tr>\n      <th>2</th>\n      <td>NSW</td>\n      <td>Apr-78</td>\n      <td>63.7</td>\n      <td>6.5</td>\n      <td>60.2</td>\n    </tr>\n    <tr>\n      <th>3</th>\n      <td>NSW</td>\n      <td>May-78</td>\n      <td>63.7</td>\n      <td>6.1</td>\n      <td>60.0</td>\n    </tr>\n    <tr>\n      <th>4</th>\n      <td>NSW</td>\n      <td>Jun-78</td>\n      <td>63.7</td>\n      <td>6.4</td>\n      <td>60.1</td>\n    </tr>\n  </tbody>\n</table>\n</div>"
     },
     "metadata": {},
     "execution_count": 105
    }
   ],
   "source": [
    "# Read in csv\n",
    "abslabour_file = \"../Resources/SA4 Time Series - July 2020.csv\"\n",
    "abslabour_df = pd.read_csv(abslabour_file)\n",
    "abslabour_df.head()"
   ]
  },
  {
   "cell_type": "markdown",
   "metadata": {},
   "source": [
    "### Transform ABS labour market data"
   ]
  },
  {
   "cell_type": "code",
   "execution_count": null,
   "metadata": {},
   "outputs": [],
   "source": [
    "# Filter for most recent labour market data (July 2020)"
   ]
  },
  {
   "cell_type": "code",
   "execution_count": null,
   "metadata": {},
   "outputs": [],
   "source": [
    "# Select and rename columns to create labour market table"
   ]
  },
  {
   "cell_type": "markdown",
   "metadata": {},
   "source": [
    "### Extract ASX company data"
   ]
  },
  {
   "cell_type": "code",
   "execution_count": 98,
   "metadata": {},
   "outputs": [
    {
     "output_type": "execute_result",
     "data": {
      "text/plain": "  Code                Company                  Sector\n0  ABP  Abacus Property Group             Real Estate\n1  ABC              Adbri Ltd               Materials\n2  APT           Afterpay Ltd  Information Technology\n3  AGL         AGL Energy Ltd               Utilities\n4  ALQ                Als Ltd             Industrials",
      "text/html": "<div>\n<style scoped>\n    .dataframe tbody tr th:only-of-type {\n        vertical-align: middle;\n    }\n\n    .dataframe tbody tr th {\n        vertical-align: top;\n    }\n\n    .dataframe thead th {\n        text-align: right;\n    }\n</style>\n<table border=\"1\" class=\"dataframe\">\n  <thead>\n    <tr style=\"text-align: right;\">\n      <th></th>\n      <th>Code</th>\n      <th>Company</th>\n      <th>Sector</th>\n    </tr>\n  </thead>\n  <tbody>\n    <tr>\n      <th>0</th>\n      <td>ABP</td>\n      <td>Abacus Property Group</td>\n      <td>Real Estate</td>\n    </tr>\n    <tr>\n      <th>1</th>\n      <td>ABC</td>\n      <td>Adbri Ltd</td>\n      <td>Materials</td>\n    </tr>\n    <tr>\n      <th>2</th>\n      <td>APT</td>\n      <td>Afterpay Ltd</td>\n      <td>Information Technology</td>\n    </tr>\n    <tr>\n      <th>3</th>\n      <td>AGL</td>\n      <td>AGL Energy Ltd</td>\n      <td>Utilities</td>\n    </tr>\n    <tr>\n      <th>4</th>\n      <td>ALQ</td>\n      <td>Als Ltd</td>\n      <td>Industrials</td>\n    </tr>\n  </tbody>\n</table>\n</div>"
     },
     "metadata": {},
     "execution_count": 98
    }
   ],
   "source": [
    "asx_file = \"../Resources/20200601-asx200.csv\"\n",
    "asx_df = pd.read_csv(asx_file, skiprows=1,usecols=range())\n",
    "asx_df.head()"
   ]
  },
  {
   "cell_type": "markdown",
   "metadata": {},
   "source": [
    "### Transform market cap csv"
   ]
  },
  {
   "cell_type": "code",
   "execution_count": 103,
   "metadata": {},
   "outputs": [
    {
     "output_type": "execute_result",
     "data": {
      "text/plain": "                                          organisation  \\\n0                                             Deloitte   \n1    Australian Government Department of Human Serv...   \n2          International Institute of Data & Analytics   \n3                                                  IBM   \n4                                      Cash Converters   \n..                                                 ...   \n260                                            Feedzai   \n261                                              AECOM   \n262                                  Commonwealth Bank   \n263                               NSW Health Pathology   \n264                                            hipages   \n\n                                   Indeed profile page  Indeed rating Code  \\\n0                   https://au.indeed.com/cmp/Deloitte              4  NaN   \n1    https://au.indeed.com/cmp/Australian-Governmen...            3.9  NaN   \n2                                        Not available  Not available  NaN   \n3                        https://au.indeed.com/cmp/IBM            3.9  NaN   \n4            https://au.indeed.com/cmp/Cash-Converters            3.5  NaN   \n..                                                 ...            ...  ...   \n260                                      Not available  Not available  NaN   \n261                    https://au.indeed.com/cmp/AECOM            3.7  NaN   \n262        https://au.indeed.com/cmp/Commonwealth-Bank            4.1  NaN   \n263               https://au.indeed.com/cmp/Nsw-Health            3.9  NaN   \n264                                      Not available  Not available  NaN   \n\n    Company Sector  \n0       NaN    NaN  \n1       NaN    NaN  \n2       NaN    NaN  \n3       NaN    NaN  \n4       NaN    NaN  \n..      ...    ...  \n260     NaN    NaN  \n261     NaN    NaN  \n262     NaN    NaN  \n263     NaN    NaN  \n264     NaN    NaN  \n\n[265 rows x 6 columns]",
      "text/html": "<div>\n<style scoped>\n    .dataframe tbody tr th:only-of-type {\n        vertical-align: middle;\n    }\n\n    .dataframe tbody tr th {\n        vertical-align: top;\n    }\n\n    .dataframe thead th {\n        text-align: right;\n    }\n</style>\n<table border=\"1\" class=\"dataframe\">\n  <thead>\n    <tr style=\"text-align: right;\">\n      <th></th>\n      <th>organisation</th>\n      <th>Indeed profile page</th>\n      <th>Indeed rating</th>\n      <th>Code</th>\n      <th>Company</th>\n      <th>Sector</th>\n    </tr>\n  </thead>\n  <tbody>\n    <tr>\n      <th>0</th>\n      <td>Deloitte</td>\n      <td>https://au.indeed.com/cmp/Deloitte</td>\n      <td>4</td>\n      <td>NaN</td>\n      <td>NaN</td>\n      <td>NaN</td>\n    </tr>\n    <tr>\n      <th>1</th>\n      <td>Australian Government Department of Human Serv...</td>\n      <td>https://au.indeed.com/cmp/Australian-Governmen...</td>\n      <td>3.9</td>\n      <td>NaN</td>\n      <td>NaN</td>\n      <td>NaN</td>\n    </tr>\n    <tr>\n      <th>2</th>\n      <td>International Institute of Data &amp; Analytics</td>\n      <td>Not available</td>\n      <td>Not available</td>\n      <td>NaN</td>\n      <td>NaN</td>\n      <td>NaN</td>\n    </tr>\n    <tr>\n      <th>3</th>\n      <td>IBM</td>\n      <td>https://au.indeed.com/cmp/IBM</td>\n      <td>3.9</td>\n      <td>NaN</td>\n      <td>NaN</td>\n      <td>NaN</td>\n    </tr>\n    <tr>\n      <th>4</th>\n      <td>Cash Converters</td>\n      <td>https://au.indeed.com/cmp/Cash-Converters</td>\n      <td>3.5</td>\n      <td>NaN</td>\n      <td>NaN</td>\n      <td>NaN</td>\n    </tr>\n    <tr>\n      <th>...</th>\n      <td>...</td>\n      <td>...</td>\n      <td>...</td>\n      <td>...</td>\n      <td>...</td>\n      <td>...</td>\n    </tr>\n    <tr>\n      <th>260</th>\n      <td>Feedzai</td>\n      <td>Not available</td>\n      <td>Not available</td>\n      <td>NaN</td>\n      <td>NaN</td>\n      <td>NaN</td>\n    </tr>\n    <tr>\n      <th>261</th>\n      <td>AECOM</td>\n      <td>https://au.indeed.com/cmp/AECOM</td>\n      <td>3.7</td>\n      <td>NaN</td>\n      <td>NaN</td>\n      <td>NaN</td>\n    </tr>\n    <tr>\n      <th>262</th>\n      <td>Commonwealth Bank</td>\n      <td>https://au.indeed.com/cmp/Commonwealth-Bank</td>\n      <td>4.1</td>\n      <td>NaN</td>\n      <td>NaN</td>\n      <td>NaN</td>\n    </tr>\n    <tr>\n      <th>263</th>\n      <td>NSW Health Pathology</td>\n      <td>https://au.indeed.com/cmp/Nsw-Health</td>\n      <td>3.9</td>\n      <td>NaN</td>\n      <td>NaN</td>\n      <td>NaN</td>\n    </tr>\n    <tr>\n      <th>264</th>\n      <td>hipages</td>\n      <td>Not available</td>\n      <td>Not available</td>\n      <td>NaN</td>\n      <td>NaN</td>\n      <td>NaN</td>\n    </tr>\n  </tbody>\n</table>\n<p>265 rows × 6 columns</p>\n</div>"
     },
     "metadata": {},
     "execution_count": 103
    }
   ],
   "source": [
    "# Join select columns from org info DF to ASX DF using company name as match point\n",
    "jobs_asx_join = pd.merge(orginfo_df,asx_df,left_on=\"organisation\",right_on=\"Company\",how=\"left\")\n",
    "jobs_asx_join"
   ]
  },
  {
   "cell_type": "code",
   "execution_count": null,
   "metadata": {},
   "outputs": [],
   "source": [
    "jobs_asx_join.to_csv(\"jobs_asx_join.csv\")\n",
    "# This approach only found one match! So ASX data is not useful."
   ]
  },
  {
   "cell_type": "code",
   "execution_count": 100,
   "metadata": {},
   "outputs": [
    {
     "output_type": "execute_result",
     "data": {
      "text/plain": "NSW Health Pathology      16\nTechSkills Accelerator    11\nDeloitte                  10\nTalenza                   10\nCSIRO                      9\n                          ..\nCiti                       1\nHorizon Consulting         1\nDXC                        1\nANSTO                      1\nFusion Sport Pty Ltd       1\nName: organisation, Length: 265, dtype: int64"
     },
     "metadata": {},
     "execution_count": 100
    }
   ],
   "source": [
    "# Nice to have...\n",
    "\n",
    "# Find number of job listings for each company. Could add this information as a new column in the company information table\n",
    "job_count = datasci_df[\"organisation\"].value_counts()\n",
    "job_count"
   ]
  }
 ]
}