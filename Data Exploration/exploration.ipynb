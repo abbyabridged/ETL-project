{
 "metadata": {
  "language_info": {
   "codemirror_mode": {
    "name": "ipython",
    "version": 3
   },
   "file_extension": ".py",
   "mimetype": "text/x-python",
   "name": "python",
   "nbconvert_exporter": "python",
   "pygments_lexer": "ipython3",
   "version": "3.7.6-final"
  },
  "orig_nbformat": 2,
  "kernelspec": {
   "name": "python_defaultSpec_1598524583020",
   "display_name": "Python 3.7.6 64-bit ('base': conda)"
  }
 },
 "nbformat": 4,
 "nbformat_minor": 2,
 "cells": [
  {
   "cell_type": "code",
   "execution_count": 27,
   "metadata": {},
   "outputs": [],
   "source": [
    "import pandas as pd\n",
    "from sqlalchemy import create_engine"
   ]
  },
  {
   "cell_type": "markdown",
   "metadata": {},
   "source": [
    "### Extract data science jobs csv into DataFrame"
   ]
  },
  {
   "cell_type": "code",
   "execution_count": 28,
   "metadata": {},
   "outputs": [
    {
     "output_type": "execute_result",
     "data": {
      "text/plain": "   Unnamed: 0                                              title  \\\n0           1  Deloitte Access Economics - Junior Data Scientist   \n1           2                                     Data Scientist   \n2           3                      Junior Data Analyst/Scientist   \n3           4  IBM Research Scientist Data Scientist – Melbourne   \n4           5                                     Data Scientist   \n\n                                             company  \\\n0                                           Deloitte   \n1  Australian Government Department of Human Serv...   \n2        International Institute of Data & Analytics   \n3                                                IBM   \n4                                    Cash Converters   \n\n                                               cpage  ratings       location  \\\n0                 https://au.indeed.com/cmp/Deloitte      4.0     Sydney NSW   \n1  https://au.indeed.com/cmp/Australian-Governmen...      3.9   Canberra ACT   \n2                           https://au.indeed.comn/a      0.0     Sydney NSW   \n3                      https://au.indeed.com/cmp/IBM      3.9  Melbourne VIC   \n4          https://au.indeed.com/cmp/Cash-Converters      3.5    Taringa QLD   \n\n   days_ago                                            summary  \n0        30  The data will be both temporal and spatial. Ad...  \n1        10  They lead the implementation of data science a...  \n2        10  In data science and big data analytics, the ID...  \n3        30  Experience working with big data sets, especia...  \n4         1  Collaborates with data/software engineers to i...  ",
      "text/html": "<div>\n<style scoped>\n    .dataframe tbody tr th:only-of-type {\n        vertical-align: middle;\n    }\n\n    .dataframe tbody tr th {\n        vertical-align: top;\n    }\n\n    .dataframe thead th {\n        text-align: right;\n    }\n</style>\n<table border=\"1\" class=\"dataframe\">\n  <thead>\n    <tr style=\"text-align: right;\">\n      <th></th>\n      <th>Unnamed: 0</th>\n      <th>title</th>\n      <th>company</th>\n      <th>cpage</th>\n      <th>ratings</th>\n      <th>location</th>\n      <th>days_ago</th>\n      <th>summary</th>\n    </tr>\n  </thead>\n  <tbody>\n    <tr>\n      <th>0</th>\n      <td>1</td>\n      <td>Deloitte Access Economics - Junior Data Scientist</td>\n      <td>Deloitte</td>\n      <td>https://au.indeed.com/cmp/Deloitte</td>\n      <td>4.0</td>\n      <td>Sydney NSW</td>\n      <td>30</td>\n      <td>The data will be both temporal and spatial. Ad...</td>\n    </tr>\n    <tr>\n      <th>1</th>\n      <td>2</td>\n      <td>Data Scientist</td>\n      <td>Australian Government Department of Human Serv...</td>\n      <td>https://au.indeed.com/cmp/Australian-Governmen...</td>\n      <td>3.9</td>\n      <td>Canberra ACT</td>\n      <td>10</td>\n      <td>They lead the implementation of data science a...</td>\n    </tr>\n    <tr>\n      <th>2</th>\n      <td>3</td>\n      <td>Junior Data Analyst/Scientist</td>\n      <td>International Institute of Data &amp; Analytics</td>\n      <td>https://au.indeed.comn/a</td>\n      <td>0.0</td>\n      <td>Sydney NSW</td>\n      <td>10</td>\n      <td>In data science and big data analytics, the ID...</td>\n    </tr>\n    <tr>\n      <th>3</th>\n      <td>4</td>\n      <td>IBM Research Scientist Data Scientist – Melbourne</td>\n      <td>IBM</td>\n      <td>https://au.indeed.com/cmp/IBM</td>\n      <td>3.9</td>\n      <td>Melbourne VIC</td>\n      <td>30</td>\n      <td>Experience working with big data sets, especia...</td>\n    </tr>\n    <tr>\n      <th>4</th>\n      <td>5</td>\n      <td>Data Scientist</td>\n      <td>Cash Converters</td>\n      <td>https://au.indeed.com/cmp/Cash-Converters</td>\n      <td>3.5</td>\n      <td>Taringa QLD</td>\n      <td>1</td>\n      <td>Collaborates with data/software engineers to i...</td>\n    </tr>\n  </tbody>\n</table>\n</div>"
     },
     "metadata": {},
     "execution_count": 28
    }
   ],
   "source": [
    "# Read in the data science jobs csv\n",
    "datasci_file = \"../Resources/datascientist_jobs_in_australia_Oct_25_2019.csv\"\n",
    "datasci_df = pd.read_csv(datasci_file)\n",
    "datasci_df.head()"
   ]
  },
  {
   "cell_type": "code",
   "execution_count": 29,
   "metadata": {
    "tags": []
   },
   "outputs": [
    {
     "output_type": "stream",
     "name": "stdout",
     "text": "<class 'pandas.core.frame.DataFrame'>\nRangeIndex: 619 entries, 0 to 618\nData columns (total 8 columns):\n #   Column      Non-Null Count  Dtype  \n---  ------      --------------  -----  \n 0   Unnamed: 0  619 non-null    int64  \n 1   title       619 non-null    object \n 2   company     619 non-null    object \n 3   cpage       619 non-null    object \n 4   ratings     619 non-null    float64\n 5   location    619 non-null    object \n 6   days_ago    619 non-null    int64  \n 7   summary     619 non-null    object \ndtypes: float64(1), int64(2), object(5)\nmemory usage: 38.8+ KB\n"
    }
   ],
   "source": [
    "# Summary of DataFrame\n",
    "datasci_df.info()"
   ]
  },
  {
   "cell_type": "markdown",
   "metadata": {},
   "source": [
    "### Transform data science jobs csv"
   ]
  },
  {
   "cell_type": "code",
   "execution_count": 30,
   "metadata": {},
   "outputs": [],
   "source": [
    "# Rename the unnamed column to id and set as index\n",
    "datasci_df.rename(columns={\"Unnamed: 0\":\"id\"},inplace=True)\n",
    "datasci_df.set_index(\"id\",inplace=True)"
   ]
  },
  {
   "cell_type": "code",
   "execution_count": 31,
   "metadata": {
    "tags": []
   },
   "outputs": [
    {
     "output_type": "execute_result",
     "data": {
      "text/plain": "                                                title  \\\nid                                                      \n1   Deloitte Access Economics - Junior Data Scientist   \n2                                      Data Scientist   \n3                       Junior Data Analyst/Scientist   \n4   IBM Research Scientist Data Scientist – Melbourne   \n5                                      Data Scientist   \n\n                                              company  \\\nid                                                      \n1                                            Deloitte   \n2   Australian Government Department of Human Serv...   \n3         International Institute of Data & Analytics   \n4                                                 IBM   \n5                                     Cash Converters   \n\n                                                cpage  ratings       location  \\\nid                                                                              \n1                  https://au.indeed.com/cmp/Deloitte      4.0     Sydney NSW   \n2   https://au.indeed.com/cmp/Australian-Governmen...      3.9   Canberra ACT   \n3                            https://au.indeed.comn/a      0.0     Sydney NSW   \n4                       https://au.indeed.com/cmp/IBM      3.9  Melbourne VIC   \n5           https://au.indeed.com/cmp/Cash-Converters      3.5    Taringa QLD   \n\n    days_ago                                            summary  \nid                                                               \n1         30  The data will be both temporal and spatial. Ad...  \n2         10  They lead the implementation of data science a...  \n3         10  In data science and big data analytics, the ID...  \n4         30  Experience working with big data sets, especia...  \n5          1  Collaborates with data/software engineers to i...  ",
      "text/html": "<div>\n<style scoped>\n    .dataframe tbody tr th:only-of-type {\n        vertical-align: middle;\n    }\n\n    .dataframe tbody tr th {\n        vertical-align: top;\n    }\n\n    .dataframe thead th {\n        text-align: right;\n    }\n</style>\n<table border=\"1\" class=\"dataframe\">\n  <thead>\n    <tr style=\"text-align: right;\">\n      <th></th>\n      <th>title</th>\n      <th>company</th>\n      <th>cpage</th>\n      <th>ratings</th>\n      <th>location</th>\n      <th>days_ago</th>\n      <th>summary</th>\n    </tr>\n    <tr>\n      <th>id</th>\n      <th></th>\n      <th></th>\n      <th></th>\n      <th></th>\n      <th></th>\n      <th></th>\n      <th></th>\n    </tr>\n  </thead>\n  <tbody>\n    <tr>\n      <th>1</th>\n      <td>Deloitte Access Economics - Junior Data Scientist</td>\n      <td>Deloitte</td>\n      <td>https://au.indeed.com/cmp/Deloitte</td>\n      <td>4.0</td>\n      <td>Sydney NSW</td>\n      <td>30</td>\n      <td>The data will be both temporal and spatial. Ad...</td>\n    </tr>\n    <tr>\n      <th>2</th>\n      <td>Data Scientist</td>\n      <td>Australian Government Department of Human Serv...</td>\n      <td>https://au.indeed.com/cmp/Australian-Governmen...</td>\n      <td>3.9</td>\n      <td>Canberra ACT</td>\n      <td>10</td>\n      <td>They lead the implementation of data science a...</td>\n    </tr>\n    <tr>\n      <th>3</th>\n      <td>Junior Data Analyst/Scientist</td>\n      <td>International Institute of Data &amp; Analytics</td>\n      <td>https://au.indeed.comn/a</td>\n      <td>0.0</td>\n      <td>Sydney NSW</td>\n      <td>10</td>\n      <td>In data science and big data analytics, the ID...</td>\n    </tr>\n    <tr>\n      <th>4</th>\n      <td>IBM Research Scientist Data Scientist – Melbourne</td>\n      <td>IBM</td>\n      <td>https://au.indeed.com/cmp/IBM</td>\n      <td>3.9</td>\n      <td>Melbourne VIC</td>\n      <td>30</td>\n      <td>Experience working with big data sets, especia...</td>\n    </tr>\n    <tr>\n      <th>5</th>\n      <td>Data Scientist</td>\n      <td>Cash Converters</td>\n      <td>https://au.indeed.com/cmp/Cash-Converters</td>\n      <td>3.5</td>\n      <td>Taringa QLD</td>\n      <td>1</td>\n      <td>Collaborates with data/software engineers to i...</td>\n    </tr>\n  </tbody>\n</table>\n</div>"
     },
     "metadata": {},
     "execution_count": 31
    }
   ],
   "source": [
    "# Preview resulting DataFrame\n",
    "datasci_df.head()"
   ]
  },
  {
   "cell_type": "code",
   "execution_count": 32,
   "metadata": {
    "tags": []
   },
   "outputs": [],
   "source": [
    "# Check for duplicate rows, based on all columns\n",
    "duplicate_rows = datasci_df[datasci_df.duplicated(keep=\"first\")]\n",
    "# duplicate_rows\n",
    "# duplicate_rows.count()"
   ]
  },
  {
   "cell_type": "code",
   "execution_count": 33,
   "metadata": {},
   "outputs": [],
   "source": [
    "# Drop duplicate rows from DataFrame\n",
    "datasci_df.drop_duplicates(inplace=True)"
   ]
  },
  {
   "cell_type": "code",
   "execution_count": 34,
   "metadata": {},
   "outputs": [],
   "source": [
    "# Clean up cpage column (replace invalid URL 'https://au.indeed.comn/a' with 'Not available')\n",
    "datasci_df.replace(\"https://au.indeed.comn/a\",\"Not available\",inplace=True)"
   ]
  },
  {
   "cell_type": "code",
   "execution_count": 35,
   "metadata": {},
   "outputs": [],
   "source": [
    "# Replace 0.0 ratings with 'No rating'\n",
    "datasci_df.replace(0.00,\"Not available\",inplace=True)"
   ]
  },
  {
   "cell_type": "code",
   "execution_count": 36,
   "metadata": {},
   "outputs": [],
   "source": [
    "# Drop days_ago columns\n",
    "datasci_df.drop(columns=\"days_ago\",inplace=True)"
   ]
  },
  {
   "cell_type": "code",
   "execution_count": 37,
   "metadata": {},
   "outputs": [],
   "source": [
    "# Replace state only values in location with \"N/A, <state>\" to enable splitting of location into city and state\n",
    "datasci_df[\"location\"].replace(to_replace=\"New South Wales\",value=\"Not available, NSW\",inplace=True)\n",
    "datasci_df[\"location\"].replace(to_replace=\"Victoria\",value=\"Not available, VIC\",inplace=True)\n",
    "datasci_df[\"location\"].replace(to_replace=\"Queensland\",value=\"Not available, QLD\",inplace=True)\n",
    "datasci_df[\"location\"].replace(to_replace=\"Tasmania\",value=\"Not available, TAS\",inplace=True)"
   ]
  },
  {
   "cell_type": "code",
   "execution_count": 38,
   "metadata": {},
   "outputs": [],
   "source": [
    "# Clean up location column; separate city and state into two columns\n",
    "location = datasci_df[\"location\"]\n",
    "# location.unique()\n",
    "# location.value_counts()\n",
    "location_df = location.str.rsplit(\" \",n=1,expand=True)"
   ]
  },
  {
   "cell_type": "code",
   "execution_count": 39,
   "metadata": {},
   "outputs": [],
   "source": [
    "# Add new city and state columns into existing DataFrame\n",
    "datasci_df[\"city\"] = location_df[0]\n",
    "datasci_df[\"state\"] = location_df[1]\n",
    "# Drop existing location column\n",
    "datasci_df.drop(columns=\"location\",inplace=True)"
   ]
  },
  {
   "cell_type": "code",
   "execution_count": 40,
   "metadata": {},
   "outputs": [],
   "source": [
    "# Check city and state data\n",
    "# datasci_df[\"city\"].unique()\n",
    "# datasci_df[\"state\"].unique()"
   ]
  },
  {
   "cell_type": "code",
   "execution_count": 41,
   "metadata": {},
   "outputs": [],
   "source": [
    "# Clean up city column to replace \"Australia\" values? OR leave \"Australia\" amd rename column to location\n",
    "# datasci_df[datasci_df[\"state\"].isna()]\n",
    "# datasci_df.loc[datasci_df[\"state\"] == \"Australia\"]"
   ]
  },
  {
   "cell_type": "code",
   "execution_count": 42,
   "metadata": {},
   "outputs": [],
   "source": [
    "# Rename columns with meaningful titles e.g. 'Indeed landing page'\n",
    "datasci_df.rename(columns={\"title\": \"job posting title\",\n",
    "                            \"company\": \"organisation\",\n",
    "                            \"cpage\": \"Indeed profile page\",\n",
    "                            \"ratings\": \"Indeed rating\",\n",
    "                            \"summary\": \"job summary\",\n",
    "                            \"city\": \"location\"},\n",
    "                            inplace=True)"
   ]
  },
  {
   "cell_type": "code",
   "execution_count": 43,
   "metadata": {},
   "outputs": [
    {
     "output_type": "execute_result",
     "data": {
      "text/plain": "                                    job posting title  \\\nid                                                      \n1   Deloitte Access Economics - Junior Data Scientist   \n2                                      Data Scientist   \n3                       Junior Data Analyst/Scientist   \n4   IBM Research Scientist Data Scientist – Melbourne   \n5                                      Data Scientist   \n\n                                         organisation  \\\nid                                                      \n1                                            Deloitte   \n2   Australian Government Department of Human Serv...   \n3         International Institute of Data & Analytics   \n4                                                 IBM   \n5                                     Cash Converters   \n\n                                  Indeed profile page  Indeed rating  \\\nid                                                                     \n1                  https://au.indeed.com/cmp/Deloitte              4   \n2   https://au.indeed.com/cmp/Australian-Governmen...            3.9   \n3                                       Not available  Not available   \n4                       https://au.indeed.com/cmp/IBM            3.9   \n5           https://au.indeed.com/cmp/Cash-Converters            3.5   \n\n                                          job summary   location state  \nid                                                                      \n1   The data will be both temporal and spatial. Ad...     Sydney   NSW  \n2   They lead the implementation of data science a...   Canberra   ACT  \n3   In data science and big data analytics, the ID...     Sydney   NSW  \n4   Experience working with big data sets, especia...  Melbourne   VIC  \n5   Collaborates with data/software engineers to i...    Taringa   QLD  ",
      "text/html": "<div>\n<style scoped>\n    .dataframe tbody tr th:only-of-type {\n        vertical-align: middle;\n    }\n\n    .dataframe tbody tr th {\n        vertical-align: top;\n    }\n\n    .dataframe thead th {\n        text-align: right;\n    }\n</style>\n<table border=\"1\" class=\"dataframe\">\n  <thead>\n    <tr style=\"text-align: right;\">\n      <th></th>\n      <th>job posting title</th>\n      <th>organisation</th>\n      <th>Indeed profile page</th>\n      <th>Indeed rating</th>\n      <th>job summary</th>\n      <th>location</th>\n      <th>state</th>\n    </tr>\n    <tr>\n      <th>id</th>\n      <th></th>\n      <th></th>\n      <th></th>\n      <th></th>\n      <th></th>\n      <th></th>\n      <th></th>\n    </tr>\n  </thead>\n  <tbody>\n    <tr>\n      <th>1</th>\n      <td>Deloitte Access Economics - Junior Data Scientist</td>\n      <td>Deloitte</td>\n      <td>https://au.indeed.com/cmp/Deloitte</td>\n      <td>4</td>\n      <td>The data will be both temporal and spatial. Ad...</td>\n      <td>Sydney</td>\n      <td>NSW</td>\n    </tr>\n    <tr>\n      <th>2</th>\n      <td>Data Scientist</td>\n      <td>Australian Government Department of Human Serv...</td>\n      <td>https://au.indeed.com/cmp/Australian-Governmen...</td>\n      <td>3.9</td>\n      <td>They lead the implementation of data science a...</td>\n      <td>Canberra</td>\n      <td>ACT</td>\n    </tr>\n    <tr>\n      <th>3</th>\n      <td>Junior Data Analyst/Scientist</td>\n      <td>International Institute of Data &amp; Analytics</td>\n      <td>Not available</td>\n      <td>Not available</td>\n      <td>In data science and big data analytics, the ID...</td>\n      <td>Sydney</td>\n      <td>NSW</td>\n    </tr>\n    <tr>\n      <th>4</th>\n      <td>IBM Research Scientist Data Scientist – Melbourne</td>\n      <td>IBM</td>\n      <td>https://au.indeed.com/cmp/IBM</td>\n      <td>3.9</td>\n      <td>Experience working with big data sets, especia...</td>\n      <td>Melbourne</td>\n      <td>VIC</td>\n    </tr>\n    <tr>\n      <th>5</th>\n      <td>Data Scientist</td>\n      <td>Cash Converters</td>\n      <td>https://au.indeed.com/cmp/Cash-Converters</td>\n      <td>3.5</td>\n      <td>Collaborates with data/software engineers to i...</td>\n      <td>Taringa</td>\n      <td>QLD</td>\n    </tr>\n  </tbody>\n</table>\n</div>"
     },
     "metadata": {},
     "execution_count": 43
    }
   ],
   "source": [
    "datasci_df.head()"
   ]
  },
  {
   "cell_type": "code",
   "execution_count": 44,
   "metadata": {},
   "outputs": [
    {
     "output_type": "execute_result",
     "data": {
      "text/plain": "                                    job posting title  \\\nid                                                      \n1   Deloitte Access Economics - Junior Data Scientist   \n2                                      Data Scientist   \n3                       Junior Data Analyst/Scientist   \n4   IBM Research Scientist Data Scientist – Melbourne   \n5                                      Data Scientist   \n\n                                         organisation   location state  \nid                                                                      \n1                                            Deloitte     Sydney   NSW  \n2   Australian Government Department of Human Serv...   Canberra   ACT  \n3         International Institute of Data & Analytics     Sydney   NSW  \n4                                                 IBM  Melbourne   VIC  \n5                                     Cash Converters    Taringa   QLD  ",
      "text/html": "<div>\n<style scoped>\n    .dataframe tbody tr th:only-of-type {\n        vertical-align: middle;\n    }\n\n    .dataframe tbody tr th {\n        vertical-align: top;\n    }\n\n    .dataframe thead th {\n        text-align: right;\n    }\n</style>\n<table border=\"1\" class=\"dataframe\">\n  <thead>\n    <tr style=\"text-align: right;\">\n      <th></th>\n      <th>job posting title</th>\n      <th>organisation</th>\n      <th>location</th>\n      <th>state</th>\n    </tr>\n    <tr>\n      <th>id</th>\n      <th></th>\n      <th></th>\n      <th></th>\n      <th></th>\n    </tr>\n  </thead>\n  <tbody>\n    <tr>\n      <th>1</th>\n      <td>Deloitte Access Economics - Junior Data Scientist</td>\n      <td>Deloitte</td>\n      <td>Sydney</td>\n      <td>NSW</td>\n    </tr>\n    <tr>\n      <th>2</th>\n      <td>Data Scientist</td>\n      <td>Australian Government Department of Human Serv...</td>\n      <td>Canberra</td>\n      <td>ACT</td>\n    </tr>\n    <tr>\n      <th>3</th>\n      <td>Junior Data Analyst/Scientist</td>\n      <td>International Institute of Data &amp; Analytics</td>\n      <td>Sydney</td>\n      <td>NSW</td>\n    </tr>\n    <tr>\n      <th>4</th>\n      <td>IBM Research Scientist Data Scientist – Melbourne</td>\n      <td>IBM</td>\n      <td>Melbourne</td>\n      <td>VIC</td>\n    </tr>\n    <tr>\n      <th>5</th>\n      <td>Data Scientist</td>\n      <td>Cash Converters</td>\n      <td>Taringa</td>\n      <td>QLD</td>\n    </tr>\n  </tbody>\n</table>\n</div>"
     },
     "metadata": {},
     "execution_count": 44
    }
   ],
   "source": [
    "# Select columns from data sci DF to create a job information table\n",
    "jobinfo_cols = [\"job posting title\",\"organisation\",\"location\",\"state\"]\n",
    "jobinfo_df = datasci_df[jobinfo_cols].copy()\n",
    "jobinfo_df.head()"
   ]
  },
  {
   "cell_type": "markdown",
   "metadata": {},
   "source": [
    "### Extract market capital csv into DataFrame"
   ]
  },
  {
   "cell_type": "code",
   "execution_count": null,
   "metadata": {},
   "outputs": [],
   "source": [
    "asxlisting_file = \"../Resources/ASXListedCompanies.csv\"\n",
    "asx_df = pd.read_csv(asxlisting_file, skiprows=1)\n",
    "asx_df.head()"
   ]
  },
  {
   "cell_type": "markdown",
   "metadata": {},
   "source": [
    "### Transform market cap csv"
   ]
  },
  {
   "cell_type": "code",
   "execution_count": null,
   "metadata": {},
   "outputs": [],
   "source": [
    "# Set ASX code as index... not necessary?\n",
    "# asx_df.set_index(\"ASX code\",inplace=True)"
   ]
  },
  {
   "cell_type": "code",
   "execution_count": null,
   "metadata": {},
   "outputs": [],
   "source": [
    "# Select columns from data sci DF from organisation dataframe\n",
    "# Transform values in company name and organisation columns to lowercase to enable merge\n",
    "organisation_df = datasci_df[\"organisation\" \"Indeed profile page\",\"Indeed rating\"]"
   ]
  },
  {
   "cell_type": "code",
   "execution_count": 49,
   "metadata": {},
   "outputs": [
    {
     "output_type": "execute_result",
     "data": {
      "text/plain": "Empty DataFrame\nColumns: [job posting title, organisation, location, state, Company name, ASX code, GICS industry group]\nIndex: []",
      "text/html": "<div>\n<style scoped>\n    .dataframe tbody tr th:only-of-type {\n        vertical-align: middle;\n    }\n\n    .dataframe tbody tr th {\n        vertical-align: top;\n    }\n\n    .dataframe thead th {\n        text-align: right;\n    }\n</style>\n<table border=\"1\" class=\"dataframe\">\n  <thead>\n    <tr style=\"text-align: right;\">\n      <th></th>\n      <th>job posting title</th>\n      <th>organisation</th>\n      <th>location</th>\n      <th>state</th>\n      <th>Company name</th>\n      <th>ASX code</th>\n      <th>GICS industry group</th>\n    </tr>\n  </thead>\n  <tbody>\n  </tbody>\n</table>\n</div>"
     },
     "metadata": {},
     "execution_count": 49
    }
   ],
   "source": [
    "# Join select columns from data sci DF to ASX DF using company name as match point\n",
    "jobs_asx_join = pd.merge(jobinfo_df,asx_df,left_on=\"organisation\",right_on=\"Company name\",how=\"inner\")\n",
    "jobs_asx_join"
   ]
  },
  {
   "cell_type": "code",
   "execution_count": null,
   "metadata": {},
   "outputs": [],
   "source": [
    "# Select columns from data sci and asx to create company information table"
   ]
  },
  {
   "cell_type": "code",
   "execution_count": null,
   "metadata": {},
   "outputs": [],
   "source": [
    "# Nice to have...\n",
    "\n",
    "# Find number of job listings for each company. Could add this information as a new column in the company information table\n",
    "company_count = datasci_df[\"organisation\"].value_counts()\n",
    "company_count"
   ]
  },
  {
   "cell_type": "code",
   "execution_count": null,
   "metadata": {},
   "outputs": [],
   "source": [
    "# Read in csv"
   ]
  },
  {
   "cell_type": "markdown",
   "metadata": {},
   "source": [
    "### Transform market cap csv"
   ]
  },
  {
   "cell_type": "code",
   "execution_count": 45,
   "metadata": {},
   "outputs": [
    {
     "output_type": "execute_result",
     "data": {
      "text/plain": "           Company name ASX code                 GICS industry group\n0           MOQ LIMITED      MOQ                 Software & Services\n1   1300 SMILES LIMITED      ONT    Health Care Equipment & Services\n2  1414 DEGREES LIMITED      14D                       Capital Goods\n3     1ST GROUP LIMITED      1ST    Health Care Equipment & Services\n4          333D LIMITED      T3D  Commercial & Professional Services",
      "text/html": "<div>\n<style scoped>\n    .dataframe tbody tr th:only-of-type {\n        vertical-align: middle;\n    }\n\n    .dataframe tbody tr th {\n        vertical-align: top;\n    }\n\n    .dataframe thead th {\n        text-align: right;\n    }\n</style>\n<table border=\"1\" class=\"dataframe\">\n  <thead>\n    <tr style=\"text-align: right;\">\n      <th></th>\n      <th>Company name</th>\n      <th>ASX code</th>\n      <th>GICS industry group</th>\n    </tr>\n  </thead>\n  <tbody>\n    <tr>\n      <th>0</th>\n      <td>MOQ LIMITED</td>\n      <td>MOQ</td>\n      <td>Software &amp; Services</td>\n    </tr>\n    <tr>\n      <th>1</th>\n      <td>1300 SMILES LIMITED</td>\n      <td>ONT</td>\n      <td>Health Care Equipment &amp; Services</td>\n    </tr>\n    <tr>\n      <th>2</th>\n      <td>1414 DEGREES LIMITED</td>\n      <td>14D</td>\n      <td>Capital Goods</td>\n    </tr>\n    <tr>\n      <th>3</th>\n      <td>1ST GROUP LIMITED</td>\n      <td>1ST</td>\n      <td>Health Care Equipment &amp; Services</td>\n    </tr>\n    <tr>\n      <th>4</th>\n      <td>333D LIMITED</td>\n      <td>T3D</td>\n      <td>Commercial &amp; Professional Services</td>\n    </tr>\n  </tbody>\n</table>\n</div>"
     },
     "metadata": {},
     "execution_count": 45
    }
   ],
   "source": [
    "# Read in CSV, skipping first row (contained report metadata)\n",
    "asxlisting_file = \"../Resources/ASXListedCompanies.csv\"\n",
    "asx_df = pd.read_csv(asxlisting_file, skiprows=1)\n",
    "asx_df.head()"
   ]
  },
  {
   "cell_type": "code",
   "execution_count": null,
   "metadata": {},
   "outputs": [],
   "source": [
    "# Set ASX code as index"
   ]
  },
  {
   "cell_type": "code",
   "execution_count": null,
   "metadata": {},
   "outputs": [],
   "source": [
    "# Drop weight, total index market cap and unnamed columns"
   ]
  },
  {
   "cell_type": "code",
   "execution_count": null,
   "metadata": {},
   "outputs": [],
   "source": [
    "# Select columns to create a sector/industry DataFrame"
   ]
  },
  {
   "cell_type": "markdown",
   "metadata": {},
   "source": [
    "### Extract ASX companies csv into DataFrame"
   ]
  }
 ]
}