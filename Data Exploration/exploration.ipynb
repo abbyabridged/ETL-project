{
 "metadata": {
  "language_info": {
   "codemirror_mode": {
    "name": "ipython",
    "version": 3
   },
   "file_extension": ".py",
   "mimetype": "text/x-python",
   "name": "python",
   "nbconvert_exporter": "python",
   "pygments_lexer": "ipython3",
   "version": "3.7.6-final"
  },
  "orig_nbformat": 2,
  "kernelspec": {
   "name": "python_defaultSpec_1598524583020",
   "display_name": "Python 3.7.6 64-bit ('base': conda)"
  }
 },
 "nbformat": 4,
 "nbformat_minor": 2,
 "cells": [
  {
   "cell_type": "code",
   "execution_count": 2,
   "metadata": {},
   "outputs": [],
   "source": [
    "import pandas as pd\n",
    "from sqlalchemy import create_engine"
   ]
  },
  {
   "cell_type": "markdown",
   "metadata": {},
   "source": [
    "### Extract data science jobs csv into DataFrame"
   ]
  },
  {
   "cell_type": "code",
   "execution_count": 3,
   "metadata": {},
   "outputs": [
    {
     "output_type": "execute_result",
     "data": {
      "text/plain": "   Unnamed: 0                                              title  \\\n0           1  Deloitte Access Economics - Junior Data Scientist   \n1           2                                     Data Scientist   \n2           3                      Junior Data Analyst/Scientist   \n3           4  IBM Research Scientist Data Scientist – Melbourne   \n4           5                                     Data Scientist   \n\n                                             company  \\\n0                                           Deloitte   \n1  Australian Government Department of Human Serv...   \n2        International Institute of Data & Analytics   \n3                                                IBM   \n4                                    Cash Converters   \n\n                                               cpage  ratings       location  \\\n0                 https://au.indeed.com/cmp/Deloitte      4.0     Sydney NSW   \n1  https://au.indeed.com/cmp/Australian-Governmen...      3.9   Canberra ACT   \n2                           https://au.indeed.comn/a      0.0     Sydney NSW   \n3                      https://au.indeed.com/cmp/IBM      3.9  Melbourne VIC   \n4          https://au.indeed.com/cmp/Cash-Converters      3.5    Taringa QLD   \n\n   days_ago                                            summary  \n0        30  The data will be both temporal and spatial. Ad...  \n1        10  They lead the implementation of data science a...  \n2        10  In data science and big data analytics, the ID...  \n3        30  Experience working with big data sets, especia...  \n4         1  Collaborates with data/software engineers to i...  ",
      "text/html": "<div>\n<style scoped>\n    .dataframe tbody tr th:only-of-type {\n        vertical-align: middle;\n    }\n\n    .dataframe tbody tr th {\n        vertical-align: top;\n    }\n\n    .dataframe thead th {\n        text-align: right;\n    }\n</style>\n<table border=\"1\" class=\"dataframe\">\n  <thead>\n    <tr style=\"text-align: right;\">\n      <th></th>\n      <th>Unnamed: 0</th>\n      <th>title</th>\n      <th>company</th>\n      <th>cpage</th>\n      <th>ratings</th>\n      <th>location</th>\n      <th>days_ago</th>\n      <th>summary</th>\n    </tr>\n  </thead>\n  <tbody>\n    <tr>\n      <th>0</th>\n      <td>1</td>\n      <td>Deloitte Access Economics - Junior Data Scientist</td>\n      <td>Deloitte</td>\n      <td>https://au.indeed.com/cmp/Deloitte</td>\n      <td>4.0</td>\n      <td>Sydney NSW</td>\n      <td>30</td>\n      <td>The data will be both temporal and spatial. Ad...</td>\n    </tr>\n    <tr>\n      <th>1</th>\n      <td>2</td>\n      <td>Data Scientist</td>\n      <td>Australian Government Department of Human Serv...</td>\n      <td>https://au.indeed.com/cmp/Australian-Governmen...</td>\n      <td>3.9</td>\n      <td>Canberra ACT</td>\n      <td>10</td>\n      <td>They lead the implementation of data science a...</td>\n    </tr>\n    <tr>\n      <th>2</th>\n      <td>3</td>\n      <td>Junior Data Analyst/Scientist</td>\n      <td>International Institute of Data &amp; Analytics</td>\n      <td>https://au.indeed.comn/a</td>\n      <td>0.0</td>\n      <td>Sydney NSW</td>\n      <td>10</td>\n      <td>In data science and big data analytics, the ID...</td>\n    </tr>\n    <tr>\n      <th>3</th>\n      <td>4</td>\n      <td>IBM Research Scientist Data Scientist – Melbourne</td>\n      <td>IBM</td>\n      <td>https://au.indeed.com/cmp/IBM</td>\n      <td>3.9</td>\n      <td>Melbourne VIC</td>\n      <td>30</td>\n      <td>Experience working with big data sets, especia...</td>\n    </tr>\n    <tr>\n      <th>4</th>\n      <td>5</td>\n      <td>Data Scientist</td>\n      <td>Cash Converters</td>\n      <td>https://au.indeed.com/cmp/Cash-Converters</td>\n      <td>3.5</td>\n      <td>Taringa QLD</td>\n      <td>1</td>\n      <td>Collaborates with data/software engineers to i...</td>\n    </tr>\n  </tbody>\n</table>\n</div>"
     },
     "metadata": {},
     "execution_count": 3
    }
   ],
   "source": [
    "# Read in the data science jobs csv\n",
    "datasci_file = \"../Resources/datascientist_jobs_in_australia_Oct_25_2019.csv\"\n",
    "datasci_df = pd.read_csv(datasci_file)\n",
    "datasci_df.head()"
   ]
  },
  {
   "cell_type": "code",
   "execution_count": 4,
   "metadata": {
    "tags": []
   },
   "outputs": [
    {
     "output_type": "stream",
     "name": "stdout",
     "text": "<class 'pandas.core.frame.DataFrame'>\nRangeIndex: 619 entries, 0 to 618\nData columns (total 8 columns):\n #   Column      Non-Null Count  Dtype  \n---  ------      --------------  -----  \n 0   Unnamed: 0  619 non-null    int64  \n 1   title       619 non-null    object \n 2   company     619 non-null    object \n 3   cpage       619 non-null    object \n 4   ratings     619 non-null    float64\n 5   location    619 non-null    object \n 6   days_ago    619 non-null    int64  \n 7   summary     619 non-null    object \ndtypes: float64(1), int64(2), object(5)\nmemory usage: 38.8+ KB\n"
    }
   ],
   "source": [
    "# Summary of DataFrame\n",
    "datasci_df.info()"
   ]
  },
  {
   "cell_type": "markdown",
   "metadata": {},
   "source": [
    "### Transform data science jobs csv"
   ]
  },
  {
   "cell_type": "code",
   "execution_count": 5,
   "metadata": {},
   "outputs": [],
   "source": [
    "# Rename the unnamed column to id and set as index\n",
    "datasci_df.rename(columns={\"Unnamed: 0\":\"id\"},inplace=True)\n",
    "datasci_df.set_index(\"id\",inplace=True)"
   ]
  },
  {
   "cell_type": "code",
   "execution_count": 6,
   "metadata": {
    "tags": []
   },
   "outputs": [
    {
     "output_type": "execute_result",
     "data": {
      "text/plain": "                                                 title  \\\nid                                                       \n1    Deloitte Access Economics - Junior Data Scientist   \n2                                       Data Scientist   \n3                        Junior Data Analyst/Scientist   \n4    IBM Research Scientist Data Scientist – Melbourne   \n5                                       Data Scientist   \n..                                                 ...   \n615                            Senior Research Analyst   \n616                             Senior Product Manager   \n617                          Technical Product Manager   \n618  6M Contract - Automation Engineer - JavaScript...   \n619  Full Stack Senior Software Engineer (React.js ...   \n\n                                               company  \\\nid                                                       \n1                                             Deloitte   \n2    Australian Government Department of Human Serv...   \n3          International Institute of Data & Analytics   \n4                                                  IBM   \n5                                      Cash Converters   \n..                                                 ...   \n615                                             Hudson   \n616                          Sustainability Consulting   \n617                                            Talenza   \n618                                Real Time Australia   \n619                                Real Time Australia   \n\n                                                 cpage  ratings  \\\nid                                                                \n1                   https://au.indeed.com/cmp/Deloitte      4.0   \n2    https://au.indeed.com/cmp/Australian-Governmen...      3.9   \n3                             https://au.indeed.comn/a      0.0   \n4                        https://au.indeed.com/cmp/IBM      3.9   \n5            https://au.indeed.com/cmp/Cash-Converters      3.5   \n..                                                 ...      ...   \n615                   https://au.indeed.com/cmp/Hudson      3.6   \n616                           https://au.indeed.comn/a      0.0   \n617                           https://au.indeed.comn/a      0.0   \n618                           https://au.indeed.comn/a      0.0   \n619                           https://au.indeed.comn/a      0.0   \n\n          location  days_ago  \\\nid                             \n1       Sydney NSW        30   \n2     Canberra ACT        10   \n3       Sydney NSW        10   \n4    Melbourne VIC        30   \n5      Taringa QLD         1   \n..             ...       ...   \n615  Melbourne VIC        14   \n616     Sydney NSW        25   \n617     Sydney NSW         4   \n618  Melbourne VIC         7   \n619  Melbourne VIC        11   \n\n                                               summary  \nid                                                      \n1    The data will be both temporal and spatial. Ad...  \n2    They lead the implementation of data science a...  \n3    In data science and big data analytics, the ID...  \n4    Experience working with big data sets, especia...  \n5    Collaborates with data/software engineers to i...  \n..                                                 ...  \n615  This role will lead to candidates who have a s...  \n616  Strong affiliation and experience with Data or...  \n617  This fast growing Tech start up are making wav...  \n618  You will be working with an exceptional cross ...  \n619  Working on building a unique data driven platf...  \n\n[619 rows x 7 columns]",
      "text/html": "<div>\n<style scoped>\n    .dataframe tbody tr th:only-of-type {\n        vertical-align: middle;\n    }\n\n    .dataframe tbody tr th {\n        vertical-align: top;\n    }\n\n    .dataframe thead th {\n        text-align: right;\n    }\n</style>\n<table border=\"1\" class=\"dataframe\">\n  <thead>\n    <tr style=\"text-align: right;\">\n      <th></th>\n      <th>title</th>\n      <th>company</th>\n      <th>cpage</th>\n      <th>ratings</th>\n      <th>location</th>\n      <th>days_ago</th>\n      <th>summary</th>\n    </tr>\n    <tr>\n      <th>id</th>\n      <th></th>\n      <th></th>\n      <th></th>\n      <th></th>\n      <th></th>\n      <th></th>\n      <th></th>\n    </tr>\n  </thead>\n  <tbody>\n    <tr>\n      <th>1</th>\n      <td>Deloitte Access Economics - Junior Data Scientist</td>\n      <td>Deloitte</td>\n      <td>https://au.indeed.com/cmp/Deloitte</td>\n      <td>4.0</td>\n      <td>Sydney NSW</td>\n      <td>30</td>\n      <td>The data will be both temporal and spatial. Ad...</td>\n    </tr>\n    <tr>\n      <th>2</th>\n      <td>Data Scientist</td>\n      <td>Australian Government Department of Human Serv...</td>\n      <td>https://au.indeed.com/cmp/Australian-Governmen...</td>\n      <td>3.9</td>\n      <td>Canberra ACT</td>\n      <td>10</td>\n      <td>They lead the implementation of data science a...</td>\n    </tr>\n    <tr>\n      <th>3</th>\n      <td>Junior Data Analyst/Scientist</td>\n      <td>International Institute of Data &amp; Analytics</td>\n      <td>https://au.indeed.comn/a</td>\n      <td>0.0</td>\n      <td>Sydney NSW</td>\n      <td>10</td>\n      <td>In data science and big data analytics, the ID...</td>\n    </tr>\n    <tr>\n      <th>4</th>\n      <td>IBM Research Scientist Data Scientist – Melbourne</td>\n      <td>IBM</td>\n      <td>https://au.indeed.com/cmp/IBM</td>\n      <td>3.9</td>\n      <td>Melbourne VIC</td>\n      <td>30</td>\n      <td>Experience working with big data sets, especia...</td>\n    </tr>\n    <tr>\n      <th>5</th>\n      <td>Data Scientist</td>\n      <td>Cash Converters</td>\n      <td>https://au.indeed.com/cmp/Cash-Converters</td>\n      <td>3.5</td>\n      <td>Taringa QLD</td>\n      <td>1</td>\n      <td>Collaborates with data/software engineers to i...</td>\n    </tr>\n    <tr>\n      <th>...</th>\n      <td>...</td>\n      <td>...</td>\n      <td>...</td>\n      <td>...</td>\n      <td>...</td>\n      <td>...</td>\n      <td>...</td>\n    </tr>\n    <tr>\n      <th>615</th>\n      <td>Senior Research Analyst</td>\n      <td>Hudson</td>\n      <td>https://au.indeed.com/cmp/Hudson</td>\n      <td>3.6</td>\n      <td>Melbourne VIC</td>\n      <td>14</td>\n      <td>This role will lead to candidates who have a s...</td>\n    </tr>\n    <tr>\n      <th>616</th>\n      <td>Senior Product Manager</td>\n      <td>Sustainability Consulting</td>\n      <td>https://au.indeed.comn/a</td>\n      <td>0.0</td>\n      <td>Sydney NSW</td>\n      <td>25</td>\n      <td>Strong affiliation and experience with Data or...</td>\n    </tr>\n    <tr>\n      <th>617</th>\n      <td>Technical Product Manager</td>\n      <td>Talenza</td>\n      <td>https://au.indeed.comn/a</td>\n      <td>0.0</td>\n      <td>Sydney NSW</td>\n      <td>4</td>\n      <td>This fast growing Tech start up are making wav...</td>\n    </tr>\n    <tr>\n      <th>618</th>\n      <td>6M Contract - Automation Engineer - JavaScript...</td>\n      <td>Real Time Australia</td>\n      <td>https://au.indeed.comn/a</td>\n      <td>0.0</td>\n      <td>Melbourne VIC</td>\n      <td>7</td>\n      <td>You will be working with an exceptional cross ...</td>\n    </tr>\n    <tr>\n      <th>619</th>\n      <td>Full Stack Senior Software Engineer (React.js ...</td>\n      <td>Real Time Australia</td>\n      <td>https://au.indeed.comn/a</td>\n      <td>0.0</td>\n      <td>Melbourne VIC</td>\n      <td>11</td>\n      <td>Working on building a unique data driven platf...</td>\n    </tr>\n  </tbody>\n</table>\n<p>619 rows × 7 columns</p>\n</div>"
     },
     "metadata": {},
     "execution_count": 6
    }
   ],
   "source": [
    "# Review resulting DataFrame\n",
    "datasci_df"
   ]
  },
  {
   "cell_type": "code",
   "execution_count": 7,
   "metadata": {},
   "outputs": [],
   "source": [
    "# Check for duplicate rows"
   ]
  },
  {
   "cell_type": "code",
   "execution_count": 8,
   "metadata": {},
   "outputs": [],
   "source": [
    "# Clean up cpage column (invalid URL 'https://au.indeed.comn/a' appears where rating is 0)"
   ]
  },
  {
   "cell_type": "code",
   "execution_count": 9,
   "metadata": {},
   "outputs": [],
   "source": [
    "# Replace 0.0 ratings with 'No rating'"
   ]
  },
  {
   "cell_type": "code",
   "execution_count": 10,
   "metadata": {},
   "outputs": [],
   "source": [
    "# Clean up location column... potentially separate city and state into two columns, but not every entry follows the same format"
   ]
  },
  {
   "cell_type": "code",
   "execution_count": 11,
   "metadata": {},
   "outputs": [],
   "source": [
    "# Drop days_ago columns"
   ]
  },
  {
   "cell_type": "code",
   "execution_count": 12,
   "metadata": {},
   "outputs": [],
   "source": [
    "# Rename columns with meaningful titles e.g. 'Indeed landing page'"
   ]
  },
  {
   "cell_type": "code",
   "execution_count": 13,
   "metadata": {},
   "outputs": [
    {
     "output_type": "execute_result",
     "data": {
      "text/plain": "Real Time Australia              20\nTalenza                          18\nNSW Health Pathology             16\nOnset                            15\nSustainability Consulting        12\n                                 ..\nMediaCom                          1\nUniversity of New South Wales     1\nAQ1 Systems                       1\nIDP Connect                       1\nMindcloud Consultants             1\nName: company, Length: 265, dtype: int64"
     },
     "metadata": {},
     "execution_count": 13
    }
   ],
   "source": [
    "# Find number of listings for each company. Could add this information as a new column in the company information table\n",
    "company_count = datasci_df[\"company\"].value_counts()\n",
    "company_count"
   ]
  },
  {
   "cell_type": "code",
   "execution_count": 15,
   "metadata": {},
   "outputs": [],
   "source": [
    "# Select columns from data sci DF to create a job information table"
   ]
  },
  {
   "cell_type": "code",
   "execution_count": 14,
   "metadata": {
    "tags": []
   },
   "outputs": [],
   "source": [
    "# Nice to have\n",
    "\n",
    "# Attempting to see if there are some keywords that frequently appear in the summary column... not sure what we can do with this information, just curious!\n",
    "summary_words = pd.Series(' '.join(datasci_df.summary).split()).value_counts()\n",
    "summary_words_df = pd.DataFrame(summary_words)\n",
    "summary_words_df.to_csv(\"summary_words.csv\")"
   ]
  },
  {
   "cell_type": "markdown",
   "metadata": {},
   "source": [
    "### Extract ASX companies csv into DataFrame"
   ]
  },
  {
   "cell_type": "code",
   "execution_count": 16,
   "metadata": {},
   "outputs": [
    {
     "output_type": "execute_result",
     "data": {
      "text/plain": "           Company name ASX code                 GICS industry group\n0           MOQ LIMITED      MOQ                 Software & Services\n1   1300 SMILES LIMITED      ONT    Health Care Equipment & Services\n2  1414 DEGREES LIMITED      14D                       Capital Goods\n3     1ST GROUP LIMITED      1ST    Health Care Equipment & Services\n4          333D LIMITED      T3D  Commercial & Professional Services",
      "text/html": "<div>\n<style scoped>\n    .dataframe tbody tr th:only-of-type {\n        vertical-align: middle;\n    }\n\n    .dataframe tbody tr th {\n        vertical-align: top;\n    }\n\n    .dataframe thead th {\n        text-align: right;\n    }\n</style>\n<table border=\"1\" class=\"dataframe\">\n  <thead>\n    <tr style=\"text-align: right;\">\n      <th></th>\n      <th>Company name</th>\n      <th>ASX code</th>\n      <th>GICS industry group</th>\n    </tr>\n  </thead>\n  <tbody>\n    <tr>\n      <th>0</th>\n      <td>MOQ LIMITED</td>\n      <td>MOQ</td>\n      <td>Software &amp; Services</td>\n    </tr>\n    <tr>\n      <th>1</th>\n      <td>1300 SMILES LIMITED</td>\n      <td>ONT</td>\n      <td>Health Care Equipment &amp; Services</td>\n    </tr>\n    <tr>\n      <th>2</th>\n      <td>1414 DEGREES LIMITED</td>\n      <td>14D</td>\n      <td>Capital Goods</td>\n    </tr>\n    <tr>\n      <th>3</th>\n      <td>1ST GROUP LIMITED</td>\n      <td>1ST</td>\n      <td>Health Care Equipment &amp; Services</td>\n    </tr>\n    <tr>\n      <th>4</th>\n      <td>333D LIMITED</td>\n      <td>T3D</td>\n      <td>Commercial &amp; Professional Services</td>\n    </tr>\n  </tbody>\n</table>\n</div>"
     },
     "metadata": {},
     "execution_count": 16
    }
   ],
   "source": [
    "# Read in CSV, skipping first row (contained report metadata)\n",
    "asxlisting_file = \"../Resources/ASXListedCompanies.csv\"\n",
    "asx_df = pd.read_csv(asxlisting_file, skiprows=1)\n",
    "asx_df.head()"
   ]
  },
  {
   "cell_type": "markdown",
   "metadata": {},
   "source": [
    "### Transform ASX companies csv"
   ]
  },
  {
   "cell_type": "code",
   "execution_count": 17,
   "metadata": {},
   "outputs": [],
   "source": [
    "# Set ASX code as index"
   ]
  },
  {
   "cell_type": "code",
   "execution_count": 18,
   "metadata": {},
   "outputs": [],
   "source": [
    "# Join select columns from data sci DF to ASX DF using company name as match point"
   ]
  },
  {
   "cell_type": "code",
   "execution_count": 19,
   "metadata": {},
   "outputs": [],
   "source": [
    "# Fill in blank values where there is no match on company name? Use sector 'Other' or populate in some other way? Could be government organisations, independent companies, etc."
   ]
  },
  {
   "cell_type": "markdown",
   "metadata": {},
   "source": [
    "### Extract market capital csv into DataFrame"
   ]
  },
  {
   "cell_type": "code",
   "execution_count": null,
   "metadata": {},
   "outputs": [],
   "source": [
    "# Read in csv"
   ]
  },
  {
   "cell_type": "markdown",
   "metadata": {},
   "source": [
    "### Transform market cap csv"
   ]
  },
  {
   "cell_type": "code",
   "execution_count": null,
   "metadata": {},
   "outputs": [],
   "source": [
    "# Set ASX code as index"
   ]
  },
  {
   "cell_type": "code",
   "execution_count": null,
   "metadata": {},
   "outputs": [],
   "source": [
    "# Drop weight, total index market cap and unnamed columns"
   ]
  },
  {
   "cell_type": "code",
   "execution_count": null,
   "metadata": {},
   "outputs": [],
   "source": [
    "# Select columns to create a sector/industry DataFrame"
   ]
  }
 ]
}